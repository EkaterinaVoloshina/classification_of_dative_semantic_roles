{
 "cells": [
  {
   "cell_type": "code",
   "execution_count": 1,
   "metadata": {
    "colab": {
     "base_uri": "https://localhost:8080/"
    },
    "id": "7v3Aeq8Kxt0n",
    "outputId": "42599cce-5052-4dcb-c0f7-1de369626e6a"
   },
   "outputs": [],
   "source": [
    "import json\n",
    "import pandas as pd\n",
    "import re\n",
    "from tqdm.notebook import tqdm"
   ]
  },
  {
   "cell_type": "markdown",
   "metadata": {
    "id": "7PSrJYxbyThg"
   },
   "source": [
    "### Данные"
   ]
  },
  {
   "cell_type": "code",
   "execution_count": 2,
   "metadata": {
    "id": "QKfDFGc0gSdb"
   },
   "outputs": [],
   "source": [
    "roles_df = pd.read_csv('dative_roles.csv')"
   ]
  },
  {
   "cell_type": "code",
   "execution_count": 3,
   "metadata": {},
   "outputs": [
    {
     "data": {
      "text/html": [
       "<div>\n",
       "<style scoped>\n",
       "    .dataframe tbody tr th:only-of-type {\n",
       "        vertical-align: middle;\n",
       "    }\n",
       "\n",
       "    .dataframe tbody tr th {\n",
       "        vertical-align: top;\n",
       "    }\n",
       "\n",
       "    .dataframe thead th {\n",
       "        text-align: right;\n",
       "    }\n",
       "</style>\n",
       "<table border=\"1\" class=\"dataframe\">\n",
       "  <thead>\n",
       "    <tr style=\"text-align: right;\">\n",
       "      <th></th>\n",
       "      <th></th>\n",
       "      <th>ExIndex</th>\n",
       "      <th>Example_x</th>\n",
       "      <th>ConstrIndex</th>\n",
       "      <th>Place_x</th>\n",
       "      <th>PhraseGen</th>\n",
       "      <th>WordDep</th>\n",
       "      <th>Form_x</th>\n",
       "      <th>Role_x</th>\n",
       "      <th>Rank_x</th>\n",
       "      <th>...</th>\n",
       "      <th>KeyLexemes</th>\n",
       "      <th>Unnamed: 15</th>\n",
       "      <th>Place_y</th>\n",
       "      <th>Form_y</th>\n",
       "      <th>Role_y</th>\n",
       "      <th>New_role</th>\n",
       "      <th>Rank_y</th>\n",
       "      <th>SemClass</th>\n",
       "      <th>KeyLexemes_x</th>\n",
       "      <th>Example_y</th>\n",
       "    </tr>\n",
       "  </thead>\n",
       "  <tbody>\n",
       "    <tr>\n",
       "      <th>0</th>\n",
       "      <td>0</td>\n",
       "      <td>1021</td>\n",
       "      <td>&lt;p&gt;&lt;se&gt; &lt;w&gt;&lt;ana lex=\"Васька\" sem=\"d:dimb t:hu...</td>\n",
       "      <td>201.0</td>\n",
       "      <td>1.0</td>\n",
       "      <td>Ваське</td>\n",
       "      <td>Ваське</td>\n",
       "      <td>Sdat</td>\n",
       "      <td>субъект психологического состояния</td>\n",
       "      <td>Несобственный</td>\n",
       "      <td>...</td>\n",
       "      <td>волноваться</td>\n",
       "      <td>NaN</td>\n",
       "      <td>NaN</td>\n",
       "      <td>NaN</td>\n",
       "      <td>NaN</td>\n",
       "      <td>экспериенцер</td>\n",
       "      <td>NaN</td>\n",
       "      <td>NaN</td>\n",
       "      <td>NaN</td>\n",
       "      <td>NaN</td>\n",
       "    </tr>\n",
       "    <tr>\n",
       "      <th>1</th>\n",
       "      <td>1</td>\n",
       "      <td>1142</td>\n",
       "      <td>&lt;p&gt;&lt;se&gt; &lt;w&gt;&lt;ana lex=\"тогда\" sem=\"t:time r:dem...</td>\n",
       "      <td>228.0</td>\n",
       "      <td>1.0</td>\n",
       "      <td>им</td>\n",
       "      <td>им</td>\n",
       "      <td>SPROdat</td>\n",
       "      <td>субъект перемещения</td>\n",
       "      <td>Несобственный</td>\n",
       "      <td>...</td>\n",
       "      <td>выступать,выступить</td>\n",
       "      <td>NaN</td>\n",
       "      <td>NaN</td>\n",
       "      <td>NaN</td>\n",
       "      <td>NaN</td>\n",
       "      <td>экспериенцер</td>\n",
       "      <td>NaN</td>\n",
       "      <td>NaN</td>\n",
       "      <td>NaN</td>\n",
       "      <td>NaN</td>\n",
       "    </tr>\n",
       "    <tr>\n",
       "      <th>2</th>\n",
       "      <td>6</td>\n",
       "      <td>29231</td>\n",
       "      <td>&lt;se&gt; &lt;w&gt;&lt;ana lex=\"режиссер\" gr=\"S,m,anim=sg,no...</td>\n",
       "      <td>303.0</td>\n",
       "      <td>4.0</td>\n",
       "      <td>к кулисе</td>\n",
       "      <td>к кулисе</td>\n",
       "      <td>к + Sdat</td>\n",
       "      <td>конечная точка</td>\n",
       "      <td>Периферия</td>\n",
       "      <td>...</td>\n",
       "      <td>вывести,выводить</td>\n",
       "      <td>NaN</td>\n",
       "      <td>NaN</td>\n",
       "      <td>NaN</td>\n",
       "      <td>NaN</td>\n",
       "      <td>направление</td>\n",
       "      <td>NaN</td>\n",
       "      <td>NaN</td>\n",
       "      <td>NaN</td>\n",
       "      <td>NaN</td>\n",
       "    </tr>\n",
       "    <tr>\n",
       "      <th>3</th>\n",
       "      <td>8</td>\n",
       "      <td>36593</td>\n",
       "      <td>&lt;p&gt;&lt;se&gt; &lt;w&gt;&lt;ana lex=\"Буш\" sem=\"t:hum r:propn ...</td>\n",
       "      <td>1001.0</td>\n",
       "      <td>1.0</td>\n",
       "      <td>публике</td>\n",
       "      <td>публике</td>\n",
       "      <td>Sdat</td>\n",
       "      <td>субъект поведения</td>\n",
       "      <td>Несобственный</td>\n",
       "      <td>...</td>\n",
       "      <td>аплодировать</td>\n",
       "      <td>NaN</td>\n",
       "      <td>NaN</td>\n",
       "      <td>NaN</td>\n",
       "      <td>NaN</td>\n",
       "      <td>экспериенцер</td>\n",
       "      <td>NaN</td>\n",
       "      <td>NaN</td>\n",
       "      <td>NaN</td>\n",
       "      <td>NaN</td>\n",
       "    </tr>\n",
       "    <tr>\n",
       "      <th>4</th>\n",
       "      <td>9</td>\n",
       "      <td>42237</td>\n",
       "      <td>&lt;p&gt;&lt;se&gt;-- &lt;w&gt;Итак&lt;/w&gt;, -- &lt;w&gt;&lt;ana lex=\"бодро\"...</td>\n",
       "      <td>1002.0</td>\n",
       "      <td>3.0</td>\n",
       "      <td>комиссару</td>\n",
       "      <td>комиссару</td>\n",
       "      <td>Sdat</td>\n",
       "      <td>адресат</td>\n",
       "      <td>Периферия</td>\n",
       "      <td>...</td>\n",
       "      <td>аплодировать</td>\n",
       "      <td>0.0</td>\n",
       "      <td>3.0</td>\n",
       "      <td>Sdat</td>\n",
       "      <td>адресат</td>\n",
       "      <td>адресат</td>\n",
       "      <td>Периферия</td>\n",
       "      <td>лицо</td>\n",
       "      <td>аплодировать</td>\n",
       "      <td>Все аплодировали хору [артисту]. Зал аплодиров...</td>\n",
       "    </tr>\n",
       "  </tbody>\n",
       "</table>\n",
       "<p>5 rows × 24 columns</p>\n",
       "</div>"
      ],
      "text/plain": [
       "      ExIndex                                          Example_x  ConstrIndex  \\\n",
       "0  0     1021   <p><se> <w><ana lex=\"Васька\" sem=\"d:dimb t:hu...        201.0   \n",
       "1  1     1142   <p><se> <w><ana lex=\"тогда\" sem=\"t:time r:dem...        228.0   \n",
       "2  6    29231  <se> <w><ana lex=\"режиссер\" gr=\"S,m,anim=sg,no...        303.0   \n",
       "3  8    36593   <p><se> <w><ana lex=\"Буш\" sem=\"t:hum r:propn ...       1001.0   \n",
       "4  9    42237   <p><se>-- <w>Итак</w>, -- <w><ana lex=\"бодро\"...       1002.0   \n",
       "\n",
       "   Place_x  PhraseGen    WordDep    Form_x  \\\n",
       "0      1.0     Ваське     Ваське      Sdat   \n",
       "1      1.0         им         им   SPROdat   \n",
       "2      4.0   к кулисе   к кулисе  к + Sdat   \n",
       "3      1.0    публике    публике      Sdat   \n",
       "4      3.0  комиссару  комиссару      Sdat   \n",
       "\n",
       "                               Role_x         Rank_x  ...  \\\n",
       "0  субъект психологического состояния  Несобственный  ...   \n",
       "1                 субъект перемещения  Несобственный  ...   \n",
       "2                      конечная точка      Периферия  ...   \n",
       "3                   субъект поведения  Несобственный  ...   \n",
       "4                             адресат      Периферия  ...   \n",
       "\n",
       "            KeyLexemes Unnamed: 15  Place_y  Form_y   Role_y      New_role  \\\n",
       "0          волноваться         NaN      NaN     NaN      NaN  экспериенцер   \n",
       "1  выступать,выступить         NaN      NaN     NaN      NaN  экспериенцер   \n",
       "2     вывести,выводить         NaN      NaN     NaN      NaN   направление   \n",
       "3         аплодировать         NaN      NaN     NaN      NaN  экспериенцер   \n",
       "4         аплодировать         0.0      3.0    Sdat  адресат       адресат   \n",
       "\n",
       "      Rank_y SemClass  KeyLexemes_x  \\\n",
       "0        NaN      NaN           NaN   \n",
       "1        NaN      NaN           NaN   \n",
       "2        NaN      NaN           NaN   \n",
       "3        NaN      NaN           NaN   \n",
       "4  Периферия     лицо  аплодировать   \n",
       "\n",
       "                                           Example_y  \n",
       "0                                                NaN  \n",
       "1                                                NaN  \n",
       "2                                                NaN  \n",
       "3                                                NaN  \n",
       "4  Все аплодировали хору [артисту]. Зал аплодиров...  \n",
       "\n",
       "[5 rows x 24 columns]"
      ]
     },
     "execution_count": 3,
     "metadata": {},
     "output_type": "execute_result"
    }
   ],
   "source": [
    "roles_df.head()"
   ]
  },
  {
   "cell_type": "code",
   "execution_count": 4,
   "metadata": {
    "colab": {
     "base_uri": "https://localhost:8080/",
     "height": 329
    },
    "id": "7Uqo5hEVcyiH",
    "outputId": "0015d503-684a-4ab0-dab8-2a2dd3645952"
   },
   "outputs": [],
   "source": [
    "with open('annotated_corpus_fixed+syntaxnet.json') as file:\n",
    "    corpus = json.load(file)"
   ]
  },
  {
   "cell_type": "markdown",
   "metadata": {
    "id": "syfhE1-2wnF3"
   },
   "source": [
    "### Признаки объекта в дативе\n",
    "\n",
    "1. Часть речи\n",
    "2. Одушевленность\n",
    "2. Число\n",
    "3. Семантический класс\n",
    "4. Само существительное"
   ]
  },
  {
   "cell_type": "code",
   "execution_count": 6,
   "metadata": {
    "id": "ieEHrQUNNP6w"
   },
   "outputs": [],
   "source": [
    "def parse_noun_morphology(morph): # для субъекта и датива\n",
    "    morph = morph.split()\n",
    "    if len(morph) == 1:\n",
    "        morph = re.split(r',|=', morph[0])\n",
    "    pos = morph[0]\n",
    "    if len(morph) == 1:\n",
    "        animacy = 'none'\n",
    "        number = 'none'\n",
    "    elif pos == 'S':\n",
    "        animacy = morph[-3]\n",
    "        number = morph[-2] \n",
    "    else:\n",
    "        animacy = 'none'\n",
    "        number = morph[-2] \n",
    "    return pos, animacy, number"
   ]
  },
  {
   "cell_type": "code",
   "execution_count": 7,
   "metadata": {
    "id": "MYMilO_JLlH7"
   },
   "outputs": [],
   "source": [
    "def parse_noun_semantics(sem): # для субъекта и датива\n",
    "    sem_dict = {'r': '', 't': '', 'pt': '', 'top': '', 'd': ''}\n",
    "    for s in sem.split():\n",
    "        for c in sem_dict:\n",
    "            if s.startswith(c):\n",
    "                sem_dict[c] = s\n",
    "    return list(sem_dict.values())"
   ]
  },
  {
   "cell_type": "code",
   "execution_count": 8,
   "metadata": {
    "id": "ofKLMgBXP-0N"
   },
   "outputs": [],
   "source": [
    "def noun_features(word):\n",
    "    if 'feat' in word:\n",
    "        pos, animacy, number = parse_noun_morphology(word['feat'])\n",
    "    else:\n",
    "        pos = word['postag_p']\n",
    "        animacy = 'none'\n",
    "        number = 'none'\n",
    "    if 'sem' in word:\n",
    "        r, t, pt, top, d = parse_noun_semantics(word['sem'])\n",
    "    else:\n",
    "        r, t, pt, top, d = ['none'] * 5\n",
    "    form = word['form']\n",
    "    if 'lemma' in word:\n",
    "        lem_form = word['lemma']\n",
    "    else:\n",
    "        lem_form = ''\n",
    "    return lem_form, pos, animacy, number, r, t, pt, top, d, form"
   ]
  },
  {
   "cell_type": "markdown",
   "metadata": {
    "id": "wEIA8di0MBbt"
   },
   "source": [
    "### Признаки субъекта\n",
    "\n",
    "1. Часть речи\n",
    "2. Одушевленность\n",
    "2. Число\n",
    "3. Семантический класс\n",
    "4. Само существительное"
   ]
  },
  {
   "cell_type": "markdown",
   "metadata": {
    "id": "fE1pK4uvLyeS"
   },
   "source": [
    "### Признаки предиката, который управляет дативом\n",
    "\n",
    "1. Семантический класс\n",
    "2. Часть речи\n",
    "3. Вид глагола, если глагол\n",
    "4. Наклонение, если глагол\n",
    "5. Сам глагол"
   ]
  },
  {
   "cell_type": "code",
   "execution_count": 9,
   "metadata": {
    "id": "wZsoH-fAL-97"
   },
   "outputs": [],
   "source": [
    "def parse_verb_morphology(morph):\n",
    "    morph = morph.split()\n",
    "    if len(morph) == 1:\n",
    "        morph = morph[0].split(',')\n",
    "    pos = morph[0]\n",
    "    if pos == 'V':\n",
    "        aspect = morph[1]\n",
    "        mood = morph[-1]\n",
    "    else:\n",
    "        aspect = 'none'\n",
    "        mood = 'none'\n",
    "    return pos, aspect, mood"
   ]
  },
  {
   "cell_type": "code",
   "execution_count": 10,
   "metadata": {
    "id": "crxuRsuoP4cK"
   },
   "outputs": [],
   "source": [
    "def parse_verb_semantics(sem):\n",
    "    sem_dict = {'t': '', 'ca': '', 'aux': '', 'd': ''}\n",
    "    for s in sem.split():\n",
    "        for c in sem_dict:\n",
    "            if s.startswith(c):\n",
    "                sem_dict[c] = s\n",
    "    return list(sem_dict.values())"
   ]
  },
  {
   "cell_type": "code",
   "execution_count": 11,
   "metadata": {
    "id": "_NFmHMUYQFWk"
   },
   "outputs": [],
   "source": [
    "def verb_features(word):\n",
    "    if 'feat' in word:\n",
    "        pos, aspect, mood = parse_verb_morphology(word['feat'])\n",
    "    else:\n",
    "        pos = word['postag_p']\n",
    "        aspect = 'none'\n",
    "        mood = 'none'\n",
    "    if 'sem' not in word:\n",
    "        t, ca, aux, d = [''] * 4\n",
    "    else:\n",
    "        t, ca, aux, d = parse_verb_semantics(word['sem'])\n",
    "    if 'lemma' in word:\n",
    "        lem_form = word['lemma']\n",
    "    else:\n",
    "        lem_form = ''\n",
    "    return lem_form, pos, aspect, mood, t, ca, aux, d"
   ]
  },
  {
   "cell_type": "markdown",
   "metadata": {
    "id": "gFh5lB7fMEgX"
   },
   "source": [
    "### Дополнительные признаки\n",
    "\n",
    "1. Наличие предлога: *бинарный*\n",
    "2. Наличие прямого объекта: *бинарный*"
   ]
  },
  {
   "cell_type": "code",
   "execution_count": 12,
   "metadata": {
    "id": "v_RmVEQXQMeZ"
   },
   "outputs": [],
   "source": [
    "def find_syntactic_head(sent, dative):\n",
    "    idx = dative['parent']\n",
    "    head = sent[idx]\n",
    "    while 'feat' in head and 'dat' in head['feat']:\n",
    "        dative = head\n",
    "        idx = head['parent']\n",
    "        head = sent[idx]\n",
    "        if 'feat' not in head or 'dat' not in head['feat']:\n",
    "            break\n",
    "        if sent[head['parent']] == dative:\n",
    "            break \n",
    "    dat_features = noun_features(dative)\n",
    "    d_lemma = dat_features[0]\n",
    "    dat_features = dat_features[1:]\n",
    "    prep = False\n",
    "    if idx == -1:\n",
    "        verb = sent[sent.index(dative)-1]\n",
    "    else:\n",
    "        verb = head\n",
    "    if head['link_name'] == 'case':\n",
    "        prep = True\n",
    "        idx = head['parent']\n",
    "        if idx == -1:\n",
    "            verb = sent[head.index()-1]\n",
    "        else:\n",
    "            verb = sent[idx]\n",
    "        verb = sent[idx]\n",
    "    if verb['link_name'] != 'punct':\n",
    "        features = verb_features(verb)\n",
    "        lemma = features[0]\n",
    "        features = features[1:]\n",
    "    else:\n",
    "        lemma = [0] * 300\n",
    "        features = tuple(['punct'] * 7)\n",
    "    return idx, lemma, prep, features, d_lemma, dat_features"
   ]
  },
  {
   "cell_type": "code",
   "execution_count": 13,
   "metadata": {
    "id": "7s0kvKO3QSTl"
   },
   "outputs": [],
   "source": [
    "def verb_dependencies(sent, verb):\n",
    "    dobj = False\n",
    "    subject_features = ['no_subject'] * 9\n",
    "    for i in sent:\n",
    "        if 'link_name' in i:\n",
    "            if i['link_name'] == 'dobj' and i['parent'] == verb:\n",
    "                dobj = True\n",
    "            if i['link_name'] == 'nsubj' and i['parent'] == verb:\n",
    "                subject_features = noun_features(i)\n",
    "    lemma = subject_features[0]\n",
    "    if lemma == 'no_subject':\n",
    "        lemma = [0] * 300\n",
    "    subject_features = subject_features[1:]\n",
    "    return dobj, lemma, subject_features"
   ]
  },
  {
   "cell_type": "markdown",
   "metadata": {
    "id": "nPFSF4C2Qc31"
   },
   "source": [
    "### Создание датасета"
   ]
  },
  {
   "cell_type": "code",
   "execution_count": 14,
   "metadata": {
    "id": "7iO9lZVtwMLL"
   },
   "outputs": [],
   "source": [
    "def check_dative(sent):\n",
    "    # проверка, есть ли объект в дативе в этом предложении \n",
    "    dative_sentence = False\n",
    "    dative = ''\n",
    "    for i in sent:\n",
    "        if 'feat' in i.keys() and 'dat' in i['feat']:\n",
    "            dative_sentence = True\n",
    "            dative = i\n",
    "            break\n",
    "    return dative_sentence, dative"
   ]
  },
  {
   "cell_type": "code",
   "execution_count": 15,
   "metadata": {
    "id": "Pxmj92mCS_-k"
   },
   "outputs": [],
   "source": [
    "def parse_sentence(sent, dative):\n",
    "    # обработка предложений с дативом\n",
    "    sentence = [i['form'] for i in sent]\n",
    "    verb, prep, verb_f, d_lemma, dat_features = find_syntactic_head(sent, dative)\n",
    "    dobj, subj_f = verb_dependencies(sent, verb)\n",
    "    features = (prep, dobj)\n",
    "    features += dat_features + verb_f + tuple(subj_f)\n",
    "    return sentence, features"
   ]
  },
  {
   "cell_type": "code",
   "execution_count": 16,
   "metadata": {
    "id": "THG0sfmKQZS9"
   },
   "outputs": [],
   "source": [
    "def dataset(corpus):\n",
    "    idx = 0\n",
    "    sent_list = []\n",
    "    lemma_dict = {}\n",
    "    annotated = {}\n",
    "    columns = ['key', 'prep', 'dobj', 'd.lemma', 'd.pos', 'd.animacy', 'd.number', \n",
    "               'd.r', 'd.t', 'd.pt', 'd.top', 'd.d', 'd.form', 'v.lemma', 'v.pos', 'v.aspect', 'v.mood', 'v.r', 'v.ca', 'v.aux', 'v_d', \n",
    "              's.lemma', 's.pos', 's.animacy', 's.number', 's.r', 's.t', 's.pt', 's.top', 's.d', 's.form']\n",
    "    df_raws = []\n",
    "    for key, value in tqdm(corpus.items()):\n",
    "        for n, sent in enumerate(value):\n",
    "            dative, word = check_dative(sent)\n",
    "            if dative == True:\n",
    "                sentence, features = parse_sentence(sent, word)\n",
    "                sent_list.append([idx, key, ' '.join(sentence)])\n",
    "                annotated[key] = value\n",
    "                idx = str(key) + '_' + str(n)\n",
    "                raw = [idx] + list(features)\n",
    "                df_raws.append(raw)\n",
    "    df = pd.DataFrame(df_raws, columns=columns)\n",
    "    return sent_list, df, annotated"
   ]
  },
  {
   "cell_type": "code",
   "execution_count": 17,
   "metadata": {
    "id": "DS5yLCkQHiR5"
   },
   "outputs": [],
   "source": [
    "def dataset_with_annotation(df):\n",
    "    columns = ['key', 'prep', 'dobj', 'd.lemma', 'd.pos', 'd.animacy', 'd.number', \n",
    "               'd.r', 'd.t', 'd.pt', 'd.top', 'd.d', 'd.form', 'v.lemma', 'v.pos', 'v.aspect', 'v.mood', 'v.r', 'v.ca', 'v.aux', 'v_d', \n",
    "              's.lemma', 's.pos', 's.animacy', 's.number', 's.r', 's.t', 's.pt', 's.top', 's.d', 's.form']\n",
    "    df_raws = []\n",
    "    for i in tqdm(range(len(df))):\n",
    "        all_features = []\n",
    "        idx = ''\n",
    "        for n, sent in enumerate(df['syntax_net'].iloc[i]):\n",
    "            dative, word = check_dative(sent)\n",
    "            if dative == True:\n",
    "                sentence, features = parse_sentence(sent, word)\n",
    "                if list(features) != [] and type(df['WordDep'].iloc[i]) != float:\n",
    "                    aim_form = features[11].lower().strip()\n",
    "                    form = df['WordDep'].iloc[i].lower()\n",
    "                    if aim_form == form.strip() or (' ' in form and aim_form == form.split()[1]):\n",
    "                        all_features = list(features)\n",
    "                        idx = df['ExIndex'].iloc[i].astype(str) + '_' + str(n)\n",
    "        df_raws.append([idx, all_features, df['New_role'].iloc[i]])         \n",
    "    return df_raws"
   ]
  },
  {
   "cell_type": "code",
   "execution_count": 18,
   "metadata": {
    "id": "Ihyqn5iI5OV1"
   },
   "outputs": [
    {
     "data": {
      "application/vnd.jupyter.widget-view+json": {
       "model_id": "51905b69850a4a6791fb1080f44b40da",
       "version_major": 2,
       "version_minor": 0
      },
      "text/plain": [
       "HBox(children=(HTML(value=''), FloatProgress(value=0.0, max=59860.0), HTML(value='')))"
      ]
     },
     "metadata": {},
     "output_type": "display_data"
    },
    {
     "name": "stdout",
     "output_type": "stream",
     "text": [
      "\n"
     ]
    }
   ],
   "source": [
    "sentences, df, annotated = dataset(corpus)"
   ]
  },
  {
   "cell_type": "code",
   "execution_count": 19,
   "metadata": {},
   "outputs": [
    {
     "data": {
      "text/html": [
       "<div>\n",
       "<style scoped>\n",
       "    .dataframe tbody tr th:only-of-type {\n",
       "        vertical-align: middle;\n",
       "    }\n",
       "\n",
       "    .dataframe tbody tr th {\n",
       "        vertical-align: top;\n",
       "    }\n",
       "\n",
       "    .dataframe thead th {\n",
       "        text-align: right;\n",
       "    }\n",
       "</style>\n",
       "<table border=\"1\" class=\"dataframe\">\n",
       "  <thead>\n",
       "    <tr style=\"text-align: right;\">\n",
       "      <th></th>\n",
       "      <th>key</th>\n",
       "      <th>prep</th>\n",
       "      <th>dobj</th>\n",
       "      <th>d.lemma</th>\n",
       "      <th>d.pos</th>\n",
       "      <th>d.animacy</th>\n",
       "      <th>d.number</th>\n",
       "      <th>d.r</th>\n",
       "      <th>d.t</th>\n",
       "      <th>d.pt</th>\n",
       "      <th>...</th>\n",
       "      <th>s.lemma</th>\n",
       "      <th>s.pos</th>\n",
       "      <th>s.animacy</th>\n",
       "      <th>s.number</th>\n",
       "      <th>s.r</th>\n",
       "      <th>s.t</th>\n",
       "      <th>s.pt</th>\n",
       "      <th>s.top</th>\n",
       "      <th>s.d</th>\n",
       "      <th>s.form</th>\n",
       "    </tr>\n",
       "  </thead>\n",
       "  <tbody>\n",
       "    <tr>\n",
       "      <th>0</th>\n",
       "      <td>89370_1</td>\n",
       "      <td>False</td>\n",
       "      <td>False</td>\n",
       "      <td>пытка</td>\n",
       "      <td>S</td>\n",
       "      <td>inan</td>\n",
       "      <td>pl</td>\n",
       "      <td>r:abstr</td>\n",
       "      <td>t:impact</td>\n",
       "      <td></td>\n",
       "      <td>...</td>\n",
       "      <td>Бухарин</td>\n",
       "      <td>S</td>\n",
       "      <td>anim</td>\n",
       "      <td>sg</td>\n",
       "      <td>r:propn</td>\n",
       "      <td>t:famn</td>\n",
       "      <td></td>\n",
       "      <td></td>\n",
       "      <td></td>\n",
       "      <td>Бухарина</td>\n",
       "    </tr>\n",
       "    <tr>\n",
       "      <th>1</th>\n",
       "      <td>89371_0</td>\n",
       "      <td>False</td>\n",
       "      <td>False</td>\n",
       "      <td>капитан</td>\n",
       "      <td>S</td>\n",
       "      <td>anim</td>\n",
       "      <td>sg</td>\n",
       "      <td>r:concr</td>\n",
       "      <td>t:armpos</td>\n",
       "      <td></td>\n",
       "      <td>...</td>\n",
       "      <td>патруль</td>\n",
       "      <td>S</td>\n",
       "      <td>inan</td>\n",
       "      <td>sg</td>\n",
       "      <td>r:concr</td>\n",
       "      <td>t:group</td>\n",
       "      <td>pt:set</td>\n",
       "      <td></td>\n",
       "      <td></td>\n",
       "      <td>патруль</td>\n",
       "    </tr>\n",
       "    <tr>\n",
       "      <th>2</th>\n",
       "      <td>89371_2</td>\n",
       "      <td>False</td>\n",
       "      <td>True</td>\n",
       "      <td>население</td>\n",
       "      <td>S</td>\n",
       "      <td>inan</td>\n",
       "      <td>sg</td>\n",
       "      <td>r:concr</td>\n",
       "      <td></td>\n",
       "      <td>pt:aggr</td>\n",
       "      <td>...</td>\n",
       "      <td>no_subject</td>\n",
       "      <td>no_subject</td>\n",
       "      <td>no_subject</td>\n",
       "      <td>no_subject</td>\n",
       "      <td>no_subject</td>\n",
       "      <td>no_subject</td>\n",
       "      <td>no_subject</td>\n",
       "      <td>no_subject</td>\n",
       "      <td>None</td>\n",
       "      <td>None</td>\n",
       "    </tr>\n",
       "    <tr>\n",
       "      <th>3</th>\n",
       "      <td>89371_17</td>\n",
       "      <td>False</td>\n",
       "      <td>True</td>\n",
       "      <td>самоубийца</td>\n",
       "      <td>S</td>\n",
       "      <td>anim</td>\n",
       "      <td>sg</td>\n",
       "      <td>r:concr</td>\n",
       "      <td>t:hum</td>\n",
       "      <td></td>\n",
       "      <td>...</td>\n",
       "      <td>no_subject</td>\n",
       "      <td>no_subject</td>\n",
       "      <td>no_subject</td>\n",
       "      <td>no_subject</td>\n",
       "      <td>no_subject</td>\n",
       "      <td>no_subject</td>\n",
       "      <td>no_subject</td>\n",
       "      <td>no_subject</td>\n",
       "      <td>None</td>\n",
       "      <td>None</td>\n",
       "    </tr>\n",
       "    <tr>\n",
       "      <th>4</th>\n",
       "      <td>89371_18</td>\n",
       "      <td>False</td>\n",
       "      <td>True</td>\n",
       "      <td>патруль</td>\n",
       "      <td>S</td>\n",
       "      <td>inan</td>\n",
       "      <td>sg</td>\n",
       "      <td>r:concr</td>\n",
       "      <td>t:group</td>\n",
       "      <td>pt:set</td>\n",
       "      <td>...</td>\n",
       "      <td>арестовать</td>\n",
       "      <td>V</td>\n",
       "      <td>none</td>\n",
       "      <td>inf</td>\n",
       "      <td></td>\n",
       "      <td></td>\n",
       "      <td></td>\n",
       "      <td></td>\n",
       "      <td>der:s</td>\n",
       "      <td>арестовать</td>\n",
       "    </tr>\n",
       "  </tbody>\n",
       "</table>\n",
       "<p>5 rows × 31 columns</p>\n",
       "</div>"
      ],
      "text/plain": [
       "        key   prep   dobj     d.lemma d.pos d.animacy d.number      d.r  \\\n",
       "0   89370_1  False  False       пытка     S      inan       pl  r:abstr   \n",
       "1   89371_0  False  False     капитан     S      anim       sg  r:concr   \n",
       "2   89371_2  False   True   население     S      inan       sg  r:concr   \n",
       "3  89371_17  False   True  самоубийца     S      anim       sg  r:concr   \n",
       "4  89371_18  False   True     патруль     S      inan       sg  r:concr   \n",
       "\n",
       "        d.t     d.pt  ...     s.lemma       s.pos   s.animacy    s.number  \\\n",
       "0  t:impact           ...     Бухарин           S        anim          sg   \n",
       "1  t:armpos           ...     патруль           S        inan          sg   \n",
       "2            pt:aggr  ...  no_subject  no_subject  no_subject  no_subject   \n",
       "3     t:hum           ...  no_subject  no_subject  no_subject  no_subject   \n",
       "4   t:group   pt:set  ...  арестовать           V        none         inf   \n",
       "\n",
       "          s.r         s.t        s.pt       s.top    s.d      s.form  \n",
       "0     r:propn      t:famn                                   Бухарина  \n",
       "1     r:concr     t:group      pt:set                        патруль  \n",
       "2  no_subject  no_subject  no_subject  no_subject   None        None  \n",
       "3  no_subject  no_subject  no_subject  no_subject   None        None  \n",
       "4                                                  der:s  арестовать  \n",
       "\n",
       "[5 rows x 31 columns]"
      ]
     },
     "execution_count": 19,
     "metadata": {},
     "output_type": "execute_result"
    }
   ],
   "source": [
    "df.head()"
   ]
  },
  {
   "cell_type": "code",
   "execution_count": 20,
   "metadata": {},
   "outputs": [],
   "source": [
    "sent_df = pd.DataFrame(sentences, columns=['idx', 'key', 'sentence'])"
   ]
  },
  {
   "cell_type": "code",
   "execution_count": 21,
   "metadata": {},
   "outputs": [],
   "source": [
    "sent_df.to_csv('sent.csv')"
   ]
  },
  {
   "cell_type": "code",
   "execution_count": 22,
   "metadata": {
    "id": "I-qjg8zvGsTo"
   },
   "outputs": [],
   "source": [
    "roles_df['syntax_net'] = [corpus[str(roles_df['ExIndex'].iloc[i])] for i in range(len(roles_df))]"
   ]
  },
  {
   "cell_type": "code",
   "execution_count": 23,
   "metadata": {
    "id": "k4UAN4b9Hcyx"
   },
   "outputs": [
    {
     "data": {
      "application/vnd.jupyter.widget-view+json": {
       "model_id": "82e7b29fff6a47c094f2d96fa23a05cb",
       "version_major": 2,
       "version_minor": 0
      },
      "text/plain": [
       "HBox(children=(HTML(value=''), FloatProgress(value=0.0, max=2664.0), HTML(value='')))"
      ]
     },
     "metadata": {},
     "output_type": "display_data"
    },
    {
     "name": "stdout",
     "output_type": "stream",
     "text": [
      "\n"
     ]
    }
   ],
   "source": [
    "raws = dataset_with_annotation(roles_df)"
   ]
  },
  {
   "cell_type": "code",
   "execution_count": 24,
   "metadata": {
    "id": "J29_y5dVIx07"
   },
   "outputs": [],
   "source": [
    "ann = pd.DataFrame(raws, columns=['key', 'features', 'role'])"
   ]
  },
  {
   "cell_type": "code",
   "execution_count": 25,
   "metadata": {
    "id": "aHsiS2bBNDHb"
   },
   "outputs": [],
   "source": [
    "train_data = ann[ann['role'].notna()]"
   ]
  },
  {
   "cell_type": "code",
   "execution_count": 27,
   "metadata": {},
   "outputs": [],
   "source": [
    "from sklearn.preprocessing import LabelEncoder\n",
    "roles = LabelEncoder().fit_transform(train_data['role'].to_list())"
   ]
  },
  {
   "cell_type": "code",
   "execution_count": 28,
   "metadata": {
    "id": "2xVI1d44NeEM"
   },
   "outputs": [],
   "source": [
    "prev = []\n",
    "for i in range(len(train_data)):\n",
    "    if train_data['features'].iloc[i] != []:\n",
    "        prev.append([train_data['key'].iloc[i]] + train_data['features'].iloc[i])\n",
    "    else:\n",
    "        prev.append([0, False, False] + [''] * 26)"
   ]
  },
  {
   "cell_type": "code",
   "execution_count": 35,
   "metadata": {
    "id": "Y2C_HtEOMNYf"
   },
   "outputs": [],
   "source": [
    "columns = ['key', 'prep', 'dobj', 'd.lemma', 'd.pos', 'd.animacy', 'd.number', \n",
    "               'd.r', 'd.t', 'd.pt', 'd.top', 'd.d', 'd.form', 'v.lemma', 'v.pos', 'v.aspect', 'v.mood', 'v.r', 'v.ca', 'v.aux', 'v_d', \n",
    "              's.lemma', 's.pos', 's.animacy', 's.number', 's.r', 's.t', 's.pt', 's.top', 's.d', 's.form']\n",
    "final_dataset = pd.DataFrame(prev, columns=columns)"
   ]
  },
  {
   "cell_type": "code",
   "execution_count": 36,
   "metadata": {
    "id": "hddc4qeXM6UX"
   },
   "outputs": [],
   "source": [
    "final_dataset['role'] = train_data['role'].tolist()"
   ]
  },
  {
   "cell_type": "code",
   "execution_count": 39,
   "metadata": {},
   "outputs": [],
   "source": [
    "final_dataset = final_dataset.drop('d.form', axis=1).drop('s.form', axis=1)"
   ]
  },
  {
   "cell_type": "code",
   "execution_count": 40,
   "metadata": {
    "id": "slgdVUs4KOKU"
   },
   "outputs": [],
   "source": [
    "final_dataset.to_csv('annotated_data.csv')"
   ]
  },
  {
   "cell_type": "code",
   "execution_count": 48,
   "metadata": {},
   "outputs": [],
   "source": [
    "updated = pd.merge(df, final_dataset, how='outer')\n",
    "updated = updated[updated['key'] != 0]\n",
    "updated = updated.fillna('none')"
   ]
  },
  {
   "cell_type": "code",
   "execution_count": 52,
   "metadata": {},
   "outputs": [],
   "source": [
    "updated.to_csv('dative.csv')"
   ]
  }
 ],
 "metadata": {
  "colab": {
   "name": "features_dative.ipynb",
   "provenance": [],
   "toc_visible": true
  },
  "kernelspec": {
   "display_name": "Python 3",
   "language": "python",
   "name": "python3"
  },
  "language_info": {
   "codemirror_mode": {
    "name": "ipython",
    "version": 3
   },
   "file_extension": ".py",
   "mimetype": "text/x-python",
   "name": "python",
   "nbconvert_exporter": "python",
   "pygments_lexer": "ipython3",
   "version": "3.8.5"
  }
 },
 "nbformat": 4,
 "nbformat_minor": 1
}
