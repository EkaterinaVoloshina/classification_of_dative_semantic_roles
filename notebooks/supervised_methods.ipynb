{
  "nbformat": 4,
  "nbformat_minor": 0,
  "metadata": {
    "colab": {
      "name": "supervised methods.ipynb",
      "provenance": [],
      "toc_visible": true,
      "authorship_tag": "ABX9TyPN/NBgjOo5bu+OhR3Jf5mm",
      "include_colab_link": true
    },
    "kernelspec": {
      "name": "python3",
      "display_name": "Python 3"
    },
    "language_info": {
      "name": "python"
    },
    "accelerator": "GPU",
    "widgets": {
      "application/vnd.jupyter.widget-state+json": {
        "e2bb53dada3443ecb5f49a9d1da30b8c": {
          "model_module": "@jupyter-widgets/controls",
          "model_name": "HBoxModel",
          "state": {
            "_view_name": "HBoxView",
            "_dom_classes": [],
            "_model_name": "HBoxModel",
            "_view_module": "@jupyter-widgets/controls",
            "_model_module_version": "1.5.0",
            "_view_count": null,
            "_view_module_version": "1.5.0",
            "box_style": "",
            "layout": "IPY_MODEL_b3cb52a5bdf7433b90796c6f2011fb11",
            "_model_module": "@jupyter-widgets/controls",
            "children": [
              "IPY_MODEL_da643534151344138ffb9d5319083806",
              "IPY_MODEL_8901e7c175c9486788c32911b082ab1e"
            ]
          }
        },
        "b3cb52a5bdf7433b90796c6f2011fb11": {
          "model_module": "@jupyter-widgets/base",
          "model_name": "LayoutModel",
          "state": {
            "_view_name": "LayoutView",
            "grid_template_rows": null,
            "right": null,
            "justify_content": null,
            "_view_module": "@jupyter-widgets/base",
            "overflow": null,
            "_model_module_version": "1.2.0",
            "_view_count": null,
            "flex_flow": null,
            "width": null,
            "min_width": null,
            "border": null,
            "align_items": null,
            "bottom": null,
            "_model_module": "@jupyter-widgets/base",
            "top": null,
            "grid_column": null,
            "overflow_y": null,
            "overflow_x": null,
            "grid_auto_flow": null,
            "grid_area": null,
            "grid_template_columns": null,
            "flex": null,
            "_model_name": "LayoutModel",
            "justify_items": null,
            "grid_row": null,
            "max_height": null,
            "align_content": null,
            "visibility": null,
            "align_self": null,
            "height": null,
            "min_height": null,
            "padding": null,
            "grid_auto_rows": null,
            "grid_gap": null,
            "max_width": null,
            "order": null,
            "_view_module_version": "1.2.0",
            "grid_template_areas": null,
            "object_position": null,
            "object_fit": null,
            "grid_auto_columns": null,
            "margin": null,
            "display": null,
            "left": null
          }
        },
        "da643534151344138ffb9d5319083806": {
          "model_module": "@jupyter-widgets/controls",
          "model_name": "FloatProgressModel",
          "state": {
            "_view_name": "ProgressView",
            "style": "IPY_MODEL_958c64a87970498bb2debfda495ea593",
            "_dom_classes": [],
            "description": "100%",
            "_model_name": "FloatProgressModel",
            "bar_style": "success",
            "max": 25,
            "_view_module": "@jupyter-widgets/controls",
            "_model_module_version": "1.5.0",
            "value": 25,
            "_view_count": null,
            "_view_module_version": "1.5.0",
            "orientation": "horizontal",
            "min": 0,
            "description_tooltip": null,
            "_model_module": "@jupyter-widgets/controls",
            "layout": "IPY_MODEL_5380135d6c314f71b235e998ddb29ab7"
          }
        },
        "8901e7c175c9486788c32911b082ab1e": {
          "model_module": "@jupyter-widgets/controls",
          "model_name": "HTMLModel",
          "state": {
            "_view_name": "HTMLView",
            "style": "IPY_MODEL_71cca2d60fe645c087415a708f8f2f64",
            "_dom_classes": [],
            "description": "",
            "_model_name": "HTMLModel",
            "placeholder": "​",
            "_view_module": "@jupyter-widgets/controls",
            "_model_module_version": "1.5.0",
            "value": " 25/25 [00:25&lt;00:00,  1.03s/it]",
            "_view_count": null,
            "_view_module_version": "1.5.0",
            "description_tooltip": null,
            "_model_module": "@jupyter-widgets/controls",
            "layout": "IPY_MODEL_03468d65913d4d3bab1312d4931b1b9b"
          }
        },
        "958c64a87970498bb2debfda495ea593": {
          "model_module": "@jupyter-widgets/controls",
          "model_name": "ProgressStyleModel",
          "state": {
            "_view_name": "StyleView",
            "_model_name": "ProgressStyleModel",
            "description_width": "initial",
            "_view_module": "@jupyter-widgets/base",
            "_model_module_version": "1.5.0",
            "_view_count": null,
            "_view_module_version": "1.2.0",
            "bar_color": null,
            "_model_module": "@jupyter-widgets/controls"
          }
        },
        "5380135d6c314f71b235e998ddb29ab7": {
          "model_module": "@jupyter-widgets/base",
          "model_name": "LayoutModel",
          "state": {
            "_view_name": "LayoutView",
            "grid_template_rows": null,
            "right": null,
            "justify_content": null,
            "_view_module": "@jupyter-widgets/base",
            "overflow": null,
            "_model_module_version": "1.2.0",
            "_view_count": null,
            "flex_flow": null,
            "width": null,
            "min_width": null,
            "border": null,
            "align_items": null,
            "bottom": null,
            "_model_module": "@jupyter-widgets/base",
            "top": null,
            "grid_column": null,
            "overflow_y": null,
            "overflow_x": null,
            "grid_auto_flow": null,
            "grid_area": null,
            "grid_template_columns": null,
            "flex": null,
            "_model_name": "LayoutModel",
            "justify_items": null,
            "grid_row": null,
            "max_height": null,
            "align_content": null,
            "visibility": null,
            "align_self": null,
            "height": null,
            "min_height": null,
            "padding": null,
            "grid_auto_rows": null,
            "grid_gap": null,
            "max_width": null,
            "order": null,
            "_view_module_version": "1.2.0",
            "grid_template_areas": null,
            "object_position": null,
            "object_fit": null,
            "grid_auto_columns": null,
            "margin": null,
            "display": null,
            "left": null
          }
        },
        "71cca2d60fe645c087415a708f8f2f64": {
          "model_module": "@jupyter-widgets/controls",
          "model_name": "DescriptionStyleModel",
          "state": {
            "_view_name": "StyleView",
            "_model_name": "DescriptionStyleModel",
            "description_width": "",
            "_view_module": "@jupyter-widgets/base",
            "_model_module_version": "1.5.0",
            "_view_count": null,
            "_view_module_version": "1.2.0",
            "_model_module": "@jupyter-widgets/controls"
          }
        },
        "03468d65913d4d3bab1312d4931b1b9b": {
          "model_module": "@jupyter-widgets/base",
          "model_name": "LayoutModel",
          "state": {
            "_view_name": "LayoutView",
            "grid_template_rows": null,
            "right": null,
            "justify_content": null,
            "_view_module": "@jupyter-widgets/base",
            "overflow": null,
            "_model_module_version": "1.2.0",
            "_view_count": null,
            "flex_flow": null,
            "width": null,
            "min_width": null,
            "border": null,
            "align_items": null,
            "bottom": null,
            "_model_module": "@jupyter-widgets/base",
            "top": null,
            "grid_column": null,
            "overflow_y": null,
            "overflow_x": null,
            "grid_auto_flow": null,
            "grid_area": null,
            "grid_template_columns": null,
            "flex": null,
            "_model_name": "LayoutModel",
            "justify_items": null,
            "grid_row": null,
            "max_height": null,
            "align_content": null,
            "visibility": null,
            "align_self": null,
            "height": null,
            "min_height": null,
            "padding": null,
            "grid_auto_rows": null,
            "grid_gap": null,
            "max_width": null,
            "order": null,
            "_view_module_version": "1.2.0",
            "grid_template_areas": null,
            "object_position": null,
            "object_fit": null,
            "grid_auto_columns": null,
            "margin": null,
            "display": null,
            "left": null
          }
        }
      }
    }
  },
  "cells": [
    {
      "cell_type": "markdown",
      "metadata": {
        "id": "view-in-github",
        "colab_type": "text"
      },
      "source": [
        "<a href=\"https://colab.research.google.com/github/EkaterinaVoloshina/classification_of_dative_semantic_roles/blob/main/notebooks/supervised_methods.ipynb\" target=\"_parent\"><img src=\"https://colab.research.google.com/assets/colab-badge.svg\" alt=\"Open In Colab\"/></a>"
      ]
    },
    {
      "cell_type": "code",
      "metadata": {
        "id": "3TluyGHhKYN2"
      },
      "source": [
        "from math import log\n",
        "import random\n",
        "import os\n",
        "\n",
        "import numpy as np\n",
        "import pandas as pd\n",
        "from pandas.core.algorithms import value_counts\n",
        "from scipy.stats import entropy\n",
        "import matplotlib.pyplot as plt\n",
        "import seaborn as sn\n",
        "\n",
        "from sklearn.model_selection import train_test_split\n",
        "from sklearn.ensemble import RandomForestClassifier\n",
        "from sklearn.preprocessing import LabelEncoder, OneHotEncoder\n",
        "from sklearn.metrics import accuracy_score, confusion_matrix, classification_report, f1_score\n",
        "from sklearn.linear_model import LogisticRegression\n",
        "import xgboost as xgb\n",
        "\n",
        "import torch\n",
        "from torch import nn, optim\n",
        "from torch.utils.data import DataLoader, TensorDataset\n",
        "\n",
        "le = LabelEncoder()\n",
        "random.seed(42)\n",
        "np.random.seed(42)\n",
        "torch.manual_seed(42)\n",
        "torch.cuda.manual_seed(42)"
      ],
      "execution_count": 1,
      "outputs": []
    },
    {
      "cell_type": "markdown",
      "metadata": {
        "id": "Hjgvp-CdctPf"
      },
      "source": [
        "## 1. Препроцессинг данных"
      ]
    },
    {
      "cell_type": "code",
      "metadata": {
        "id": "1QzLFDDwK9qd",
        "colab": {
          "base_uri": "https://localhost:8080/"
        },
        "outputId": "9053c480-c237-4115-8942-ca0d4182e4aa"
      },
      "source": [
        "! git clone 'https://github.com/EkaterinaVoloshina/classification_of_dative_semantic_roles'"
      ],
      "execution_count": 2,
      "outputs": [
        {
          "output_type": "stream",
          "text": [
            "fatal: destination path 'classification_of_dative_semantic_roles' already exists and is not an empty directory.\n"
          ],
          "name": "stdout"
        }
      ]
    },
    {
      "cell_type": "code",
      "metadata": {
        "id": "1D2rBOn533xb",
        "colab": {
          "base_uri": "https://localhost:8080/",
          "height": 220
        },
        "outputId": "92480c4d-b822-43d6-debf-1f7b5581bd47"
      },
      "source": [
        "df = pd.read_csv('./classification_of_dative_semantic_roles/data/unannotated_data.csv')\n",
        "df = df.drop(['key', 'Unnamed: 0', 'Unnamed: 0.1'], axis=1)\n",
        "df['prep'] = df['prep'].fillna(False).astype(int)\n",
        "df['dobj'] = df['dobj'].fillna(False).astype(int)\n",
        "df = df[df['role'] != 'none']\n",
        "df[df['role'] == 'реципиент'] = df[df['role'] == 'реципиент'].iloc[:400]\n",
        "df = df[df['d.lemma'].notnull()].fillna('none')\n",
        "df.head()"
      ],
      "execution_count": 3,
      "outputs": [
        {
          "output_type": "execute_result",
          "data": {
            "text/html": [
              "<div>\n",
              "<style scoped>\n",
              "    .dataframe tbody tr th:only-of-type {\n",
              "        vertical-align: middle;\n",
              "    }\n",
              "\n",
              "    .dataframe tbody tr th {\n",
              "        vertical-align: top;\n",
              "    }\n",
              "\n",
              "    .dataframe thead th {\n",
              "        text-align: right;\n",
              "    }\n",
              "</style>\n",
              "<table border=\"1\" class=\"dataframe\">\n",
              "  <thead>\n",
              "    <tr style=\"text-align: right;\">\n",
              "      <th></th>\n",
              "      <th>prep</th>\n",
              "      <th>dobj</th>\n",
              "      <th>d.lemma</th>\n",
              "      <th>d.pos</th>\n",
              "      <th>d.animacy</th>\n",
              "      <th>d.number</th>\n",
              "      <th>d.r</th>\n",
              "      <th>d.t</th>\n",
              "      <th>d.pt</th>\n",
              "      <th>d.top</th>\n",
              "      <th>d.d</th>\n",
              "      <th>v.lemma</th>\n",
              "      <th>v.pos</th>\n",
              "      <th>v.aspect</th>\n",
              "      <th>v.mood</th>\n",
              "      <th>v.r</th>\n",
              "      <th>v.ca</th>\n",
              "      <th>v.aux</th>\n",
              "      <th>v_d</th>\n",
              "      <th>s.lemma</th>\n",
              "      <th>s.pos</th>\n",
              "      <th>s.animacy</th>\n",
              "      <th>s.number</th>\n",
              "      <th>s.r</th>\n",
              "      <th>s.t</th>\n",
              "      <th>s.pt</th>\n",
              "      <th>s.top</th>\n",
              "      <th>s.d</th>\n",
              "      <th>role</th>\n",
              "    </tr>\n",
              "  </thead>\n",
              "  <tbody>\n",
              "    <tr>\n",
              "      <th>70</th>\n",
              "      <td>0.0</td>\n",
              "      <td>0.0</td>\n",
              "      <td>себя</td>\n",
              "      <td>SPRO</td>\n",
              "      <td>none</td>\n",
              "      <td>SPRO</td>\n",
              "      <td>r:ref</td>\n",
              "      <td>none</td>\n",
              "      <td>none</td>\n",
              "      <td>none</td>\n",
              "      <td>none</td>\n",
              "      <td>завести</td>\n",
              "      <td>V</td>\n",
              "      <td>pf</td>\n",
              "      <td>imper</td>\n",
              "      <td>t:move</td>\n",
              "      <td>ca:caus</td>\n",
              "      <td>none</td>\n",
              "      <td>d:pref</td>\n",
              "      <td>no_subject</td>\n",
              "      <td>no_subject</td>\n",
              "      <td>no_subject</td>\n",
              "      <td>no_subject</td>\n",
              "      <td>no_subject</td>\n",
              "      <td>no_subject</td>\n",
              "      <td>no_subject</td>\n",
              "      <td>no_subject</td>\n",
              "      <td>none</td>\n",
              "      <td>реципиент</td>\n",
              "    </tr>\n",
              "    <tr>\n",
              "      <th>195</th>\n",
              "      <td>0.0</td>\n",
              "      <td>1.0</td>\n",
              "      <td>себя</td>\n",
              "      <td>SPRO</td>\n",
              "      <td>none</td>\n",
              "      <td>SPRO</td>\n",
              "      <td>r:ref</td>\n",
              "      <td>none</td>\n",
              "      <td>none</td>\n",
              "      <td>none</td>\n",
              "      <td>none</td>\n",
              "      <td>взять</td>\n",
              "      <td>V</td>\n",
              "      <td>pf</td>\n",
              "      <td>indic</td>\n",
              "      <td>t:poss</td>\n",
              "      <td>ca:caus</td>\n",
              "      <td>none</td>\n",
              "      <td>none</td>\n",
              "      <td>кто</td>\n",
              "      <td>SPRO</td>\n",
              "      <td>none</td>\n",
              "      <td>sg</td>\n",
              "      <td>r:rel</td>\n",
              "      <td>none</td>\n",
              "      <td>none</td>\n",
              "      <td>none</td>\n",
              "      <td>none</td>\n",
              "      <td>реципиент</td>\n",
              "    </tr>\n",
              "    <tr>\n",
              "      <th>240</th>\n",
              "      <td>0.0</td>\n",
              "      <td>1.0</td>\n",
              "      <td>он</td>\n",
              "      <td>SPRO</td>\n",
              "      <td>none</td>\n",
              "      <td>norm</td>\n",
              "      <td>r:pers</td>\n",
              "      <td>none</td>\n",
              "      <td>none</td>\n",
              "      <td>none</td>\n",
              "      <td>none</td>\n",
              "      <td>возвращать</td>\n",
              "      <td>V</td>\n",
              "      <td>3p</td>\n",
              "      <td>sg</td>\n",
              "      <td>t:poss</td>\n",
              "      <td>none</td>\n",
              "      <td>none</td>\n",
              "      <td>d:pref</td>\n",
              "      <td>преемственность</td>\n",
              "      <td>S</td>\n",
              "      <td>nom</td>\n",
              "      <td>norm</td>\n",
              "      <td>r:abstr</td>\n",
              "      <td>none</td>\n",
              "      <td>none</td>\n",
              "      <td>none</td>\n",
              "      <td>der:a</td>\n",
              "      <td>экспериенцер</td>\n",
              "    </tr>\n",
              "    <tr>\n",
              "      <th>252</th>\n",
              "      <td>0.0</td>\n",
              "      <td>0.0</td>\n",
              "      <td>я</td>\n",
              "      <td>SPRO</td>\n",
              "      <td>none</td>\n",
              "      <td>1p</td>\n",
              "      <td>r:pers</td>\n",
              "      <td>none</td>\n",
              "      <td>none</td>\n",
              "      <td>none</td>\n",
              "      <td>none</td>\n",
              "      <td>казаться</td>\n",
              "      <td>V</td>\n",
              "      <td>ipf</td>\n",
              "      <td>indic</td>\n",
              "      <td>t:perc</td>\n",
              "      <td>ca:noncaus</td>\n",
              "      <td>none</td>\n",
              "      <td>der:v</td>\n",
              "      <td>понимать</td>\n",
              "      <td>V</td>\n",
              "      <td>none</td>\n",
              "      <td>1p</td>\n",
              "      <td>none</td>\n",
              "      <td>t:ment</td>\n",
              "      <td>none</td>\n",
              "      <td>none</td>\n",
              "      <td>d:pref</td>\n",
              "      <td>экспериенцер</td>\n",
              "    </tr>\n",
              "    <tr>\n",
              "      <th>291</th>\n",
              "      <td>0.0</td>\n",
              "      <td>1.0</td>\n",
              "      <td>она</td>\n",
              "      <td>SPRO</td>\n",
              "      <td>none</td>\n",
              "      <td>3p</td>\n",
              "      <td>r:pers</td>\n",
              "      <td>none</td>\n",
              "      <td>none</td>\n",
              "      <td>none</td>\n",
              "      <td>none</td>\n",
              "      <td>войти</td>\n",
              "      <td>V</td>\n",
              "      <td>pf</td>\n",
              "      <td>indic</td>\n",
              "      <td>t:move</td>\n",
              "      <td>ca:noncaus</td>\n",
              "      <td>none</td>\n",
              "      <td>d:pref</td>\n",
              "      <td>no_subject</td>\n",
              "      <td>no_subject</td>\n",
              "      <td>no_subject</td>\n",
              "      <td>no_subject</td>\n",
              "      <td>no_subject</td>\n",
              "      <td>no_subject</td>\n",
              "      <td>no_subject</td>\n",
              "      <td>no_subject</td>\n",
              "      <td>none</td>\n",
              "      <td>экспериенцер</td>\n",
              "    </tr>\n",
              "  </tbody>\n",
              "</table>\n",
              "</div>"
            ],
            "text/plain": [
              "     prep  dobj d.lemma d.pos  ...        s.pt       s.top     s.d          role\n",
              "70    0.0   0.0    себя  SPRO  ...  no_subject  no_subject    none     реципиент\n",
              "195   0.0   1.0    себя  SPRO  ...        none        none    none     реципиент\n",
              "240   0.0   1.0      он  SPRO  ...        none        none   der:a  экспериенцер\n",
              "252   0.0   0.0       я  SPRO  ...        none        none  d:pref  экспериенцер\n",
              "291   0.0   1.0     она  SPRO  ...  no_subject  no_subject    none  экспериенцер\n",
              "\n",
              "[5 rows x 29 columns]"
            ]
          },
          "metadata": {
            "tags": []
          },
          "execution_count": 3
        }
      ]
    },
    {
      "cell_type": "markdown",
      "metadata": {
        "id": "15-ZCMwswX7H"
      },
      "source": [
        "Посмотрим на энтропию распределения по классам. Датасет считается сбалансированным, если значение энтропии близко к 1."
      ]
    },
    {
      "cell_type": "code",
      "metadata": {
        "colab": {
          "base_uri": "https://localhost:8080/"
        },
        "id": "iOfkmjkhrUXC",
        "outputId": "683a4358-c0a2-46ce-e96f-a3efb3f43d66"
      },
      "source": [
        "counts = value_counts(df['role'])\n",
        "entr = entropy(counts)\n",
        "print(f\"Энтропия распределения по классам равна {entr/log(len(set(df['role'])))}\")"
      ],
      "execution_count": 4,
      "outputs": [
        {
          "output_type": "stream",
          "text": [
            "Энтропия распределения по классам равна 0.9659778387276892\n"
          ],
          "name": "stdout"
        }
      ]
    },
    {
      "cell_type": "markdown",
      "metadata": {
        "id": "MVvpsjMEwRMv"
      },
      "source": [
        "Подготавливаем два вида датасета: представленный в виде чисел и представленный в формате One-Hot кодирования"
      ]
    },
    {
      "cell_type": "code",
      "metadata": {
        "id": "sPWU74AbN_iU"
      },
      "source": [
        "data = pd.get_dummies(df.drop('role', axis=1))\n",
        "df.loc[:,'d.lemma':] = df.loc[:,'d.lemma':].apply(le.fit_transform)\n",
        "target = df['role'].to_list()"
      ],
      "execution_count": 5,
      "outputs": []
    },
    {
      "cell_type": "code",
      "metadata": {
        "id": "EihDaB-uLXGx"
      },
      "source": [
        "X_train_o, X_test_o, y_train_o, y_test_o = train_test_split(data, target)\n",
        "train_target = torch.tensor(y_train_o)\n",
        "train = torch.tensor(X_train_o.values.astype(np.float32)) \n",
        "train_tensor = TensorDataset(train, train_target) \n",
        "train_loader = DataLoader(dataset = train_tensor, batch_size = 8, shuffle = True)\n",
        "val_target = torch.tensor(y_test_o)\n",
        "val = torch.tensor(X_test_o.values.astype(np.float32)) \n",
        "val_tensor = TensorDataset(val, val_target) \n",
        "val_loader = DataLoader(dataset = val_tensor, batch_size = 8, shuffle = True)"
      ],
      "execution_count": 6,
      "outputs": []
    },
    {
      "cell_type": "code",
      "metadata": {
        "id": "31joEBO_ty2K"
      },
      "source": [
        "X_train, X_test, y_train, y_test = train_test_split(df.drop('role', axis=1), df['role'])"
      ],
      "execution_count": 7,
      "outputs": []
    },
    {
      "cell_type": "markdown",
      "metadata": {
        "id": "0Y5e8iOjgyS1"
      },
      "source": [
        "## 2. Метрики"
      ]
    },
    {
      "cell_type": "code",
      "metadata": {
        "id": "8xxMIr3qg18f"
      },
      "source": [
        "def calculate_metrics(y_true, y_pred):\n",
        "    \"\"\"\n",
        "    This function calculates different metrics\n",
        "    \"\"\"\n",
        "    print(f'Accuracy is {accuracy_score(y_true, y_pred)}')\n",
        "    print(f'Macro F1-score is {f1_score(y_true, y_pred, average=\"macro\")}')\n",
        "    print(f'Micro F1-score is {f1_score(y_true, y_pred, average=\"micro\")}')\n",
        "    print(f'Classification report: \\n {classification_report(y_true, y_pred)}')\n",
        "    matrix = confusion_matrix(y_true, y_pred)\n",
        "    df_cm = pd.DataFrame(matrix/np.sum(matrix), index = [i for i in le.classes_],\n",
        "                  columns = [i for i in le.classes_])\n",
        "    plt.figure(figsize = (10,7))\n",
        "    sn.heatmap(df_cm, annot=True)"
      ],
      "execution_count": 8,
      "outputs": []
    },
    {
      "cell_type": "markdown",
      "metadata": {
        "id": "-Y9VGTOzc0pu"
      },
      "source": [
        "## 3. Логичестическая регрессия"
      ]
    },
    {
      "cell_type": "code",
      "metadata": {
        "id": "pCZs4_MzO08M",
        "colab": {
          "base_uri": "https://localhost:8080/",
          "height": 985
        },
        "outputId": "11dd53fc-2117-40a6-db6c-640bde4f0e1b"
      },
      "source": [
        "logreg = LogisticRegression()\n",
        "logreg.fit(X_train_o, y_train_o)\n",
        "y_pred = logreg.predict(X_test_o)\n",
        "calculate_metrics(y_test_o, y_pred)"
      ],
      "execution_count": 9,
      "outputs": [
        {
          "output_type": "stream",
          "text": [
            "/usr/local/lib/python3.7/dist-packages/sklearn/linear_model/_logistic.py:940: ConvergenceWarning: lbfgs failed to converge (status=1):\n",
            "STOP: TOTAL NO. of ITERATIONS REACHED LIMIT.\n",
            "\n",
            "Increase the number of iterations (max_iter) or scale the data as shown in:\n",
            "    https://scikit-learn.org/stable/modules/preprocessing.html\n",
            "Please also refer to the documentation for alternative solver options:\n",
            "    https://scikit-learn.org/stable/modules/linear_model.html#logistic-regression\n",
            "  extra_warning_msg=_LOGISTIC_SOLVER_CONVERGENCE_MSG)\n"
          ],
          "name": "stderr"
        },
        {
          "output_type": "stream",
          "text": [
            "Accuracy is 0.7300469483568075\n",
            "Macro F1-score is 0.7201711708409132\n",
            "Micro F1-score is 0.7300469483568076\n",
            "Classification report: \n",
            "               precision    recall  f1-score   support\n",
            "\n",
            "           0       0.73      0.56      0.63        63\n",
            "           1       0.81      0.81      0.81        64\n",
            "           2       0.85      0.85      0.85        92\n",
            "           3       0.79      0.55      0.65        40\n",
            "           4       0.56      0.83      0.67        88\n",
            "           5       0.80      0.65      0.71        79\n",
            "\n",
            "    accuracy                           0.73       426\n",
            "   macro avg       0.76      0.71      0.72       426\n",
            "weighted avg       0.75      0.73      0.73       426\n",
            "\n"
          ],
          "name": "stdout"
        },
        {
          "output_type": "display_data",
          "data": {
            "image/png": "[encoded data removed]",
            "text/plain": [
              "<Figure size 720x504 with 2 Axes>"
            ]
          },
          "metadata": {
            "tags": [],
            "needs_background": "light"
          }
        }
      ]
    },
    {
      "cell_type": "markdown",
      "metadata": {
        "id": "KFU5X-Abw-_t"
      },
      "source": [
        "Посмотрим на самые важные признаки логистической регрессии"
      ]
    },
    {
      "cell_type": "code",
      "metadata": {
        "id": "Ao3kxrYFMXO4",
        "colab": {
          "base_uri": "https://localhost:8080/",
          "height": 504
        },
        "outputId": "493172b5-980d-4a68-bdcd-bb53c48ecb68"
      },
      "source": [
        "feas = pd.DataFrame({\n",
        "    'feature': X_train_o.columns,\n",
        "    'importance': logreg.coef_[0].tolist()\n",
        "}).sort_values(by='importance', ascending=False).reset_index(drop=True)\n",
        "feas.head(15)"
      ],
      "execution_count": 10,
      "outputs": [
        {
          "output_type": "execute_result",
          "data": {
            "text/html": [
              "<div>\n",
              "<style scoped>\n",
              "    .dataframe tbody tr th:only-of-type {\n",
              "        vertical-align: middle;\n",
              "    }\n",
              "\n",
              "    .dataframe tbody tr th {\n",
              "        vertical-align: top;\n",
              "    }\n",
              "\n",
              "    .dataframe thead th {\n",
              "        text-align: right;\n",
              "    }\n",
              "</style>\n",
              "<table border=\"1\" class=\"dataframe\">\n",
              "  <thead>\n",
              "    <tr style=\"text-align: right;\">\n",
              "      <th></th>\n",
              "      <th>feature</th>\n",
              "      <th>importance</th>\n",
              "    </tr>\n",
              "  </thead>\n",
              "  <tbody>\n",
              "    <tr>\n",
              "      <th>0</th>\n",
              "      <td>v.lemma_вредить</td>\n",
              "      <td>2.543227</td>\n",
              "    </tr>\n",
              "    <tr>\n",
              "      <th>1</th>\n",
              "      <td>v.lemma_угрожать</td>\n",
              "      <td>1.930341</td>\n",
              "    </tr>\n",
              "    <tr>\n",
              "      <th>2</th>\n",
              "      <td>v.lemma_вырезать</td>\n",
              "      <td>1.298128</td>\n",
              "    </tr>\n",
              "    <tr>\n",
              "      <th>3</th>\n",
              "      <td>v.lemma_открыть</td>\n",
              "      <td>1.143431</td>\n",
              "    </tr>\n",
              "    <tr>\n",
              "      <th>4</th>\n",
              "      <td>v.lemma_нравиться</td>\n",
              "      <td>1.034547</td>\n",
              "    </tr>\n",
              "    <tr>\n",
              "      <th>5</th>\n",
              "      <td>v.r_t:impact</td>\n",
              "      <td>0.920466</td>\n",
              "    </tr>\n",
              "    <tr>\n",
              "      <th>6</th>\n",
              "      <td>d.lemma_судьба</td>\n",
              "      <td>0.914140</td>\n",
              "    </tr>\n",
              "    <tr>\n",
              "      <th>7</th>\n",
              "      <td>v.lemma_купить</td>\n",
              "      <td>0.827163</td>\n",
              "    </tr>\n",
              "    <tr>\n",
              "      <th>8</th>\n",
              "      <td>d.lemma_работник</td>\n",
              "      <td>0.769737</td>\n",
              "    </tr>\n",
              "    <tr>\n",
              "      <th>9</th>\n",
              "      <td>d.lemma_мореход</td>\n",
              "      <td>0.754766</td>\n",
              "    </tr>\n",
              "    <tr>\n",
              "      <th>10</th>\n",
              "      <td>v.lemma_грозить</td>\n",
              "      <td>0.752577</td>\n",
              "    </tr>\n",
              "    <tr>\n",
              "      <th>11</th>\n",
              "      <td>v.lemma_принести</td>\n",
              "      <td>0.742882</td>\n",
              "    </tr>\n",
              "    <tr>\n",
              "      <th>12</th>\n",
              "      <td>v.lemma_предвидеть</td>\n",
              "      <td>0.732131</td>\n",
              "    </tr>\n",
              "    <tr>\n",
              "      <th>13</th>\n",
              "      <td>v.lemma_запретить</td>\n",
              "      <td>0.718326</td>\n",
              "    </tr>\n",
              "    <tr>\n",
              "      <th>14</th>\n",
              "      <td>v.lemma_забавно</td>\n",
              "      <td>0.702444</td>\n",
              "    </tr>\n",
              "  </tbody>\n",
              "</table>\n",
              "</div>"
            ],
            "text/plain": [
              "               feature  importance\n",
              "0      v.lemma_вредить    2.543227\n",
              "1     v.lemma_угрожать    1.930341\n",
              "2     v.lemma_вырезать    1.298128\n",
              "3      v.lemma_открыть    1.143431\n",
              "4    v.lemma_нравиться    1.034547\n",
              "5         v.r_t:impact    0.920466\n",
              "6       d.lemma_судьба    0.914140\n",
              "7       v.lemma_купить    0.827163\n",
              "8     d.lemma_работник    0.769737\n",
              "9      d.lemma_мореход    0.754766\n",
              "10     v.lemma_грозить    0.752577\n",
              "11    v.lemma_принести    0.742882\n",
              "12  v.lemma_предвидеть    0.732131\n",
              "13   v.lemma_запретить    0.718326\n",
              "14     v.lemma_забавно    0.702444"
            ]
          },
          "metadata": {
            "tags": []
          },
          "execution_count": 10
        }
      ]
    },
    {
      "cell_type": "markdown",
      "metadata": {
        "id": "qh64QeuEghiW"
      },
      "source": [
        "## 4. Полносвязная нейронная сеть"
      ]
    },
    {
      "cell_type": "markdown",
      "metadata": {
        "id": "RJlpFhhvxQpr"
      },
      "source": [
        "Параметры нейросети:"
      ]
    },
    {
      "cell_type": "code",
      "metadata": {
        "id": "qwDFT3sR45JG"
      },
      "source": [
        "model = nn.Sequential(nn.Linear(X_train_o.shape[1], 1024),\n",
        "                      nn.BatchNorm1d(1024),\n",
        "                      nn.Dropout(0.2),\n",
        "                      nn.ReLU(),\n",
        "                      nn.Linear(1024, 64),\n",
        "                      nn.BatchNorm1d(64),\n",
        "                      nn.Dropout(0.2),\n",
        "                      nn.ReLU(),\n",
        "                      nn.Linear(64, 6))\n",
        "criterion = nn.CrossEntropyLoss()\n",
        "optimizer = optim.Adam(model.parameters())\n",
        "scheduler =  optim.lr_scheduler.ReduceLROnPlateau(optimizer)"
      ],
      "execution_count": 11,
      "outputs": []
    },
    {
      "cell_type": "code",
      "metadata": {
        "id": "PupcgTd05w5s"
      },
      "source": [
        "from tqdm.notebook import tqdm\n",
        "from sklearn.metrics import accuracy_score\n",
        "\n",
        "def train_one_epoch(model, train_dataloader, criterion, optimizer, device=\"cuda:0\"):\n",
        "    model.train()\n",
        "\n",
        "    for X, y in train_dataloader:\n",
        "        X = X.to(device)\n",
        "        y = y.to(device)\n",
        "        y_pred = model(X)\n",
        "        loss = criterion(y_pred, y.long())\n",
        "        loss.backward()\n",
        "        optimizer.step()\n",
        "        optimizer.zero_grad()\n",
        "\n",
        "def predict(model, val_dataloader, criterion, device=\"cuda:0\"):\n",
        "    model.eval()\n",
        "\n",
        "    losses = []\n",
        "    predicted_classes = []\n",
        "    true_classes = []\n",
        "    with torch.no_grad():\n",
        "        for X, y in val_dataloader:\n",
        "            X = X.to(device)\n",
        "            y = y.to(device)\n",
        "            y_pred = model(X)\n",
        "            loss = criterion(y_pred, y.long())\n",
        "\n",
        "            losses.append(loss)\n",
        "            predicted_classes.extend(torch.argmax(y_pred, dim=-1).tolist())\n",
        "            true_classes.extend(y.tolist())\n",
        "    return losses, predicted_classes, true_classes\n",
        "\n",
        "\n",
        "def train_model(model, train_dataloader, val_dataloader, criterion, optimizer, device=\"cuda:0\", n_epochs=50, scheduler=None):\n",
        "    model.to(device)\n",
        "    for epoch in tqdm(range(n_epochs)):\n",
        "        train_one_epoch(model, train_dataloader, criterion, optimizer)\n",
        "        \n",
        "        losses, pred, target = predict(model, val_dataloader, criterion)\n",
        "        f1 = f1_score(target, pred, average='weighted')\n",
        "        scheduler.step(f1)\n",
        "        if epoch == n_epochs - 1:\n",
        "            calculate_metrics(target, pred)"
      ],
      "execution_count": 12,
      "outputs": []
    },
    {
      "cell_type": "code",
      "metadata": {
        "colab": {
          "base_uri": "https://localhost:8080/",
          "height": 872,
          "referenced_widgets": [
            "e2bb53dada3443ecb5f49a9d1da30b8c",
            "b3cb52a5bdf7433b90796c6f2011fb11",
            "da643534151344138ffb9d5319083806",
            "8901e7c175c9486788c32911b082ab1e",
            "958c64a87970498bb2debfda495ea593",
            "5380135d6c314f71b235e998ddb29ab7",
            "71cca2d60fe645c087415a708f8f2f64",
            "03468d65913d4d3bab1312d4931b1b9b"
          ]
        },
        "id": "LeuusoOZ0arl",
        "outputId": "2bd0ef8d-8775-4354-f749-0ae9ccf5b973"
      },
      "source": [
        "train_model(model, train_loader, val_loader, criterion, optimizer, n_epochs=25, scheduler=scheduler)"
      ],
      "execution_count": 13,
      "outputs": [
        {
          "output_type": "display_data",
          "data": {
            "application/vnd.jupyter.widget-view+json": {
              "model_id": "e2bb53dada3443ecb5f49a9d1da30b8c",
              "version_minor": 0,
              "version_major": 2
            },
            "text/plain": [
              "HBox(children=(FloatProgress(value=0.0, max=25.0), HTML(value='')))"
            ]
          },
          "metadata": {
            "tags": []
          }
        },
        {
          "output_type": "stream",
          "text": [
            "Accuracy is 0.744131455399061\n",
            "Macro F1-score is 0.7418703366841024\n",
            "Micro F1-score is 0.7441314553990611\n",
            "Classification report: \n",
            "               precision    recall  f1-score   support\n",
            "\n",
            "           0       0.77      0.57      0.65        63\n",
            "           1       0.84      0.84      0.84        64\n",
            "           2       0.88      0.87      0.87        92\n",
            "           3       0.86      0.60      0.71        40\n",
            "           4       0.54      0.81      0.65        88\n",
            "           5       0.81      0.66      0.73        79\n",
            "\n",
            "    accuracy                           0.74       426\n",
            "   macro avg       0.78      0.72      0.74       426\n",
            "weighted avg       0.77      0.74      0.75       426\n",
            "\n",
            "\n"
          ],
          "name": "stdout"
        },
        {
          "output_type": "display_data",
          "data": {
            "image/png": "[encoded data removed]",
            "text/plain": [
              "<Figure size 720x504 with 2 Axes>"
            ]
          },
          "metadata": {
            "tags": [],
            "needs_background": "light"
          }
        }
      ]
    },
    {
      "cell_type": "markdown",
      "metadata": {
        "id": "m05kWH7viKyd"
      },
      "source": [
        "## 5. Ансамбли деревьев"
      ]
    },
    {
      "cell_type": "markdown",
      "metadata": {
        "id": "BoKCSzsF1lMp"
      },
      "source": [
        "Случайный лес:"
      ]
    },
    {
      "cell_type": "code",
      "metadata": {
        "id": "QwmpvvzqX4vi",
        "colab": {
          "base_uri": "https://localhost:8080/",
          "height": 823
        },
        "outputId": "e88b71ad-0122-4848-e7dc-bd5f960c3f3b"
      },
      "source": [
        "rf = RandomForestClassifier()\n",
        "rf.fit(X_train, y_train)\n",
        "y_pred = rf.predict(X_test)\n",
        "calculate_metrics(y_test, y_pred)"
      ],
      "execution_count": 14,
      "outputs": [
        {
          "output_type": "stream",
          "text": [
            "Accuracy is 0.715962441314554\n",
            "Macro F1-score is 0.695534965635757\n",
            "Micro F1-score is 0.715962441314554\n",
            "Classification report: \n",
            "               precision    recall  f1-score   support\n",
            "\n",
            "           0       0.72      0.66      0.68        58\n",
            "           1       0.77      0.79      0.78        61\n",
            "           2       0.77      0.88      0.82        90\n",
            "           3       0.64      0.47      0.54        34\n",
            "           4       0.68      0.70      0.69       112\n",
            "           5       0.66      0.65      0.65        71\n",
            "\n",
            "    accuracy                           0.72       426\n",
            "   macro avg       0.71      0.69      0.70       426\n",
            "weighted avg       0.71      0.72      0.71       426\n",
            "\n"
          ],
          "name": "stdout"
        },
        {
          "output_type": "display_data",
          "data": {
            "image/png": "[encoded data removed]",
            "text/plain": [
              "<Figure size 720x504 with 2 Axes>"
            ]
          },
          "metadata": {
            "tags": [],
            "needs_background": "light"
          }
        }
      ]
    },
    {
      "cell_type": "markdown",
      "metadata": {
        "id": "h8LobNV01nN8"
      },
      "source": [
        "Градиентный бустинг:"
      ]
    },
    {
      "cell_type": "code",
      "metadata": {
        "id": "GROdJWuFnuGq",
        "colab": {
          "base_uri": "https://localhost:8080/",
          "height": 823
        },
        "outputId": "84b2a74c-2bed-4382-d503-4238b0e3702c"
      },
      "source": [
        "clf_r = xgb.XGBClassifier(n_estimators=1000, learning_rate=1e-2, max_depth=3, silent=True)\n",
        "clf_r.fit(X_train, y_train)\n",
        "y_pred = clf_r.predict(X_test)\n",
        "calculate_metrics(y_test, y_pred)"
      ],
      "execution_count": 15,
      "outputs": [
        {
          "output_type": "stream",
          "text": [
            "Accuracy is 0.7276995305164319\n",
            "Macro F1-score is 0.714796032156436\n",
            "Micro F1-score is 0.7276995305164319\n",
            "Classification report: \n",
            "               precision    recall  f1-score   support\n",
            "\n",
            "           0       0.69      0.53      0.60        58\n",
            "           1       0.70      0.84      0.76        61\n",
            "           2       0.79      0.86      0.82        90\n",
            "           3       0.78      0.62      0.69        34\n",
            "           4       0.71      0.71      0.71       112\n",
            "           5       0.69      0.70      0.70        71\n",
            "\n",
            "    accuracy                           0.73       426\n",
            "   macro avg       0.73      0.71      0.71       426\n",
            "weighted avg       0.73      0.73      0.72       426\n",
            "\n"
          ],
          "name": "stdout"
        },
        {
          "output_type": "display_data",
          "data": {
            "image/png": "[encoded data removed]",
            "text/plain": [
              "<Figure size 720x504 with 2 Axes>"
            ]
          },
          "metadata": {
            "tags": [],
            "needs_background": "light"
          }
        }
      ]
    },
    {
      "cell_type": "markdown",
      "metadata": {
        "id": "iIv2_Y_Axbtb"
      },
      "source": [
        "Посмотрим на самые важные признаки для XGBoost-модели:"
      ]
    },
    {
      "cell_type": "code",
      "metadata": {
        "colab": {
          "base_uri": "https://localhost:8080/",
          "height": 337
        },
        "id": "uwTcqqt0iTz9",
        "outputId": "25440fe1-5c54-4a44-bfb7-bb7fa1de4c20"
      },
      "source": [
        "feas = pd.DataFrame({\n",
        "    'feature': X_train.columns,\n",
        "    'importance': clf_r.feature_importances_\n",
        "}).sort_values(by='importance', ascending=False).reset_index(drop=True)\n",
        "plt.bar(X_train.columns, clf_r.feature_importances_)\n",
        "plt.xlabel('Features')\n",
        "plt.ylabel('Importance')\n",
        "plt.title('Feature importance for XGBoost')\n",
        "plt.xticks(rotation=90)\n",
        "plt.show()"
      ],
      "execution_count": 16,
      "outputs": [
        {
          "output_type": "display_data",
          "data": {
            "image/png": "[encoded data removed]",
            "text/plain": [
              "<Figure size 432x288 with 1 Axes>"
            ]
          },
          "metadata": {
            "tags": [],
            "needs_background": "light"
          }
        }
      ]
    }
  ]
}