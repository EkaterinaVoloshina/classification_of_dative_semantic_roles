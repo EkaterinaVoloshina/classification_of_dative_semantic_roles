{
  "nbformat": 4,
  "nbformat_minor": 0,
  "metadata": {
    "accelerator": "GPU",
    "colab": {
      "name": "semi-supervised methods.ipynb",
      "provenance": [],
      "authorship_tag": "ABX9TyMQ0nhCgZACU53193j6/Z0z",
      "include_colab_link": true
    },
    "kernelspec": {
      "display_name": "Python 3",
      "name": "python3"
    },
    "language_info": {
      "name": "python"
    }
  },
  "cells": [
    {
      "cell_type": "markdown",
      "metadata": {
        "id": "view-in-github",
        "colab_type": "text"
      },
      "source": [
        "<a href=\"https://colab.research.google.com/github/EkaterinaVoloshina/classification_of_dative_semantic_roles/blob/main/notebooks/semi_supervised_methods.ipynb\" target=\"_parent\"><img src=\"https://colab.research.google.com/assets/colab-badge.svg\" alt=\"Open In Colab\"/></a>"
      ]
    },
    {
      "cell_type": "code",
      "metadata": {
        "colab": {
          "base_uri": "https://localhost:8080/"
        },
        "id": "ujwFRodAvwYV",
        "outputId": "93ab6e45-3ce6-40db-8742-2859703b316a"
      },
      "source": [
        "! pip install --upgrade scikit-learn"
      ],
      "execution_count": null,
      "outputs": [
        {
          "output_type": "stream",
          "text": [
            "Requirement already up-to-date: scikit-learn in /usr/local/lib/python3.7/dist-packages (0.24.2)\n",
            "Requirement already satisfied, skipping upgrade: numpy>=1.13.3 in /usr/local/lib/python3.7/dist-packages (from scikit-learn) (1.19.5)\n",
            "Requirement already satisfied, skipping upgrade: joblib>=0.11 in /usr/local/lib/python3.7/dist-packages (from scikit-learn) (1.0.1)\n",
            "Requirement already satisfied, skipping upgrade: threadpoolctl>=2.0.0 in /usr/local/lib/python3.7/dist-packages (from scikit-learn) (2.1.0)\n",
            "Requirement already satisfied, skipping upgrade: scipy>=0.19.1 in /usr/local/lib/python3.7/dist-packages (from scikit-learn) (1.4.1)\n"
          ],
          "name": "stdout"
        }
      ]
    },
    {
      "cell_type": "code",
      "metadata": {
        "id": "-vAdDfl8e0iD"
      },
      "source": [
        "import pandas as pd\n",
        "import numpy as np\n",
        "from sklearn.model_selection import train_test_split\n",
        "from sklearn.ensemble import RandomForestClassifier, VotingClassifier, GradientBoostingClassifier\n",
        "from sklearn.tree import DecisionTreeClassifier\n",
        "from sklearn.semi_supervised import SelfTrainingClassifier\n",
        "from sklearn.preprocessing import LabelEncoder, OneHotEncoder\n",
        "import matplotlib.pyplot as plt\n",
        "import random\n",
        "from operator import itemgetter\n",
        "import seaborn as sn\n",
        "import xgboost as xgb\n",
        "from torch import nn, optim\n",
        "from sklearn.svm import SVC\n",
        "from sklearn.metrics import accuracy_score, precision_recall_curve, confusion_matrix, classification_report, f1_score\n",
        "from sklearn.linear_model import LogisticRegression\n",
        "import torch\n",
        "from torch.utils.data import DataLoader, TensorDataset"
      ],
      "execution_count": null,
      "outputs": []
    },
    {
      "cell_type": "code",
      "metadata": {
        "colab": {
          "base_uri": "https://localhost:8080/"
        },
        "id": "QSlEcGQqRfTt",
        "outputId": "a648aa87-3d29-4f3a-f8f0-4fdb00b82a15"
      },
      "source": [
        "! git clone 'https://github.com/EkaterinaVoloshina/classification_of_dative_semantic_roles/'"
      ],
      "execution_count": null,
      "outputs": [
        {
          "output_type": "stream",
          "text": [
            "fatal: destination path 'classification_of_dative_semantic_roles' already exists and is not an empty directory.\n"
          ],
          "name": "stdout"
        }
      ]
    },
    {
      "cell_type": "code",
      "metadata": {
        "id": "nLu_XDjsTl4G"
      },
      "source": [
        "features = pd.read_csv('./classification_of_dative_semantic_roles/data/unannotated_data.csv')\n",
        "\n",
        "le = LabelEncoder()\n",
        "one = OneHotEncoder()"
      ],
      "execution_count": null,
      "outputs": []
    },
    {
      "cell_type": "code",
      "metadata": {
        "id": "eW4bAQXZDwD7"
      },
      "source": [
        "features['prep'] = features['prep'].fillna(False)\n",
        "features['dobj'] = features['dobj'].fillna(False)\n",
        "features = features[features['d.lemma'].notna()]"
      ],
      "execution_count": null,
      "outputs": []
    },
    {
      "cell_type": "code",
      "metadata": {
        "id": "gaKRx-gDzwD7"
      },
      "source": [
        "features = features.drop(['d.lemma', 's.lemma', 'v.lemma'], axis=1)"
      ],
      "execution_count": null,
      "outputs": []
    },
    {
      "cell_type": "code",
      "metadata": {
        "id": "UHVQmNnWhaOT"
      },
      "source": [
        "features = features.drop(['Unnamed: 0', 'key'], axis=1)\n",
        "features = features.fillna('none')\n",
        "features = features.replace('no_subject', 'none')"
      ],
      "execution_count": null,
      "outputs": []
    },
    {
      "cell_type": "code",
      "metadata": {
        "id": "fVV6D0UdhcbT"
      },
      "source": [
        "prep = features['prep'].astype(int)\n",
        "dobj = features['dobj'].astype(int)\n",
        "features = features.apply(le.fit_transform)"
      ],
      "execution_count": null,
      "outputs": []
    },
    {
      "cell_type": "code",
      "metadata": {
        "id": "EF6vCsJzhhJk"
      },
      "source": [
        "data_w_answers = features[features['role'] != 0]\n",
        "unlabeled = features[features['role'] == 0].drop('role', axis=1)\n",
        "roles = le.fit_transform(data_w_answers['role'])"
      ],
      "execution_count": null,
      "outputs": []
    },
    {
      "cell_type": "code",
      "metadata": {
        "id": "MITeDvwmhqGV"
      },
      "source": [
        "def calculate_metrics(y_true, y_pred):\n",
        "    print(f'Accuracy is {accuracy_score(y_true, y_pred)}')\n",
        "    print(f'Macro F1-score is {f1_score(y_test, y_pred, average=\"macro\")}')\n",
        "    print(f'Micro F1-score is {f1_score(y_test, y_pred, average=\"micro\")}')\n",
        "    print(f'Classification report: {classification_report(y_test, y_pred)}')\n",
        "    df_cm = pd.DataFrame(confusion_matrix(y_test, y_pred))\n",
        "    index = [i for i in le.classes_],\n",
        "                  columns = [i for i in le.classes_])\n",
        "    plt.figure(figsize = (10,7))\n",
        "    sn.heatmap(df_cm, annot=True)"
      ],
      "execution_count": null,
      "outputs": []
    },
    {
      "cell_type": "code",
      "metadata": {
        "id": "XUHg54VkWdBm"
      },
      "source": [
        "roles = data_w_answers['role']"
      ],
      "execution_count": null,
      "outputs": []
    },
    {
      "cell_type": "code",
      "metadata": {
        "id": "bbbENfQffWFh"
      },
      "source": [
        "X_train, X_test, y_train, y_test = train_test_split(data_w_answers.index, roles)"
      ],
      "execution_count": null,
      "outputs": []
    },
    {
      "cell_type": "code",
      "metadata": {
        "id": "YitcVaah0soZ"
      },
      "source": [
        "data = features.drop('role', axis=1).drop(X_test)\n",
        "target = features['role'].drop(X_test)\n",
        "target[target == 0] = -1"
      ],
      "execution_count": null,
      "outputs": []
    },
    {
      "cell_type": "code",
      "metadata": {
        "colab": {
          "base_uri": "https://localhost:8080/"
        },
        "id": "e8gdpyktec5z",
        "outputId": "738d88cb-0b87-4738-95e9-2e028f938547"
      },
      "source": [
        "one.fit(features.drop('role', axis=1))\n",
        "one_data = one.transform(data)"
      ],
      "execution_count": null,
      "outputs": [
        {
          "output_type": "execute_result",
          "data": {
            "text/plain": [
              "OneHotEncoder()"
            ]
          },
          "metadata": {
            "tags": []
          },
          "execution_count": 258
        }
      ]
    },
    {
      "cell_type": "code",
      "metadata": {
        "colab": {
          "base_uri": "https://localhost:8080/",
          "height": 712
        },
        "id": "nWjGSXaa5y13",
        "outputId": "d606cca5-5cd4-4e61-9719-7717d848d414"
      },
      "source": [
        "lg = LogisticRegression(solver='sag')\n",
        "lg.fit(one.transform(features.iloc[X_train].drop('role', axis=1)), y_train)\n",
        "y_pred = lg.predict(one.transform(features.iloc[X_test].drop('role', axis=1)))\n",
        "calculate_metrics(y_test, y_pred)"
      ],
      "execution_count": null,
      "outputs": [
        {
          "output_type": "stream",
          "text": [
            "Accuracy is 0.63671875\n",
            "Macro F1-score is 0.5598511617008456\n",
            "Micro F1-score is 0.63671875\n",
            "Classification report:               precision    recall  f1-score   support\n",
            "\n",
            "           1       0.46      0.38      0.42        58\n",
            "           2       0.76      0.62      0.68        71\n",
            "           3       0.86      0.74      0.79       102\n",
            "           4       0.38      0.14      0.21        42\n",
            "           5       0.59      0.82      0.69       174\n",
            "           6       0.58      0.57      0.57        65\n",
            "\n",
            "    accuracy                           0.64       512\n",
            "   macro avg       0.60      0.54      0.56       512\n",
            "weighted avg       0.63      0.64      0.62       512\n",
            "\n"
          ],
          "name": "stdout"
        },
        {
          "output_type": "display_data",
          "data": {
            "image/png": "[encoded data removed]",
            "text/plain": [
              "<Figure size 720x504 with 2 Axes>"
            ]
          },
          "metadata": {
            "tags": [],
            "needs_background": "light"
          }
        }
      ]
    },
    {
      "cell_type": "code",
      "metadata": {
        "id": "KDMTLKu8T302",
        "colab": {
          "base_uri": "https://localhost:8080/",
          "height": 712
        },
        "outputId": "1b92f436-41d2-4d9c-a4db-9c8b04150415"
      },
      "source": [
        "stc = SelfTrainingClassifier(LogisticRegression(solver='sag'), threshold=0.7, max_iter=15)\n",
        "stc.fit(one_data, target)\n",
        "y_pred = stc.predict(one.transform(features.iloc[X_test].drop('role', axis=1)))\n",
        "calculate_metrics(y_test, y_pred)"
      ],
      "execution_count": null,
      "outputs": [
        {
          "output_type": "stream",
          "text": [
            "Accuracy is 0.62109375\n",
            "Macro F1-score is 0.5206982099977794\n",
            "Micro F1-score is 0.62109375\n",
            "Classification report:               precision    recall  f1-score   support\n",
            "\n",
            "           1       0.43      0.38      0.40        58\n",
            "           2       0.67      0.56      0.61        71\n",
            "           3       0.81      0.80      0.81       102\n",
            "           4       0.12      0.02      0.04        42\n",
            "           5       0.59      0.78      0.67       174\n",
            "           6       0.62      0.57      0.59        65\n",
            "\n",
            "    accuracy                           0.62       512\n",
            "   macro avg       0.54      0.52      0.52       512\n",
            "weighted avg       0.59      0.62      0.60       512\n",
            "\n"
          ],
          "name": "stdout"
        },
        {
          "output_type": "display_data",
          "data": {
            "image/png": "[encoded data removed]",
            "text/plain": [
              "<Figure size 720x504 with 2 Axes>"
            ]
          },
          "metadata": {
            "tags": [],
            "needs_background": "light"
          }
        }
      ]
    },
    {
      "cell_type": "code",
      "metadata": {
        "colab": {
          "base_uri": "https://localhost:8080/"
        },
        "id": "1L0Pxg2z1kWS",
        "outputId": "76e4bb96-054c-4792-b3ca-200379ce8e99"
      },
      "source": [
        "from collections import Counter\n",
        "\n",
        "Counter(stc.transduction_)"
      ],
      "execution_count": null,
      "outputs": [
        {
          "output_type": "execute_result",
          "data": {
            "text/plain": [
              "Counter({-1: 5673, 1: 7348, 2: 9439, 3: 21116, 4: 304, 5: 42186, 6: 8286})"
            ]
          },
          "metadata": {
            "tags": []
          },
          "execution_count": 262
        }
      ]
    },
    {
      "cell_type": "code",
      "metadata": {
        "id": "T9s5wkFjxYaZ",
        "colab": {
          "base_uri": "https://localhost:8080/",
          "height": 35
        },
        "outputId": "6f2abf63-d2cf-4fe8-fe31-cf189f40e3fb"
      },
      "source": [
        "stc.termination_condition_"
      ],
      "execution_count": null,
      "outputs": [
        {
          "output_type": "execute_result",
          "data": {
            "application/vnd.google.colaboratory.intrinsic+json": {
              "type": "string"
            },
            "text/plain": [
              "'max_iter'"
            ]
          },
          "metadata": {
            "tags": []
          },
          "execution_count": 263
        }
      ]
    },
    {
      "cell_type": "code",
      "metadata": {
        "id": "VE59tLpFGePg",
        "colab": {
          "base_uri": "https://localhost:8080/",
          "height": 712
        },
        "outputId": "73022b54-39f2-4874-c63a-caf898700cf7"
      },
      "source": [
        "lg = RandomForestClassifier(criterion='entropy', bootstrap=True, max_depth=8)\n",
        "lg.fit(features.iloc[X_train].drop('role', axis=1), y_train)\n",
        "y_pred = lg.predict(features.iloc[X_test].drop('role', axis=1))\n",
        "calculate_metrics(y_test, y_pred)"
      ],
      "execution_count": null,
      "outputs": [
        {
          "output_type": "stream",
          "text": [
            "Accuracy is 0.625\n",
            "Macro F1-score is 0.5290944352930503\n",
            "Micro F1-score is 0.625\n",
            "Classification report:               precision    recall  f1-score   support\n",
            "\n",
            "           1       0.65      0.22      0.33        58\n",
            "           2       0.75      0.42      0.54        71\n",
            "           3       0.83      0.74      0.78       102\n",
            "           4       0.43      0.14      0.21        42\n",
            "           5       0.54      0.91      0.68       174\n",
            "           6       0.70      0.57      0.63        65\n",
            "\n",
            "    accuracy                           0.62       512\n",
            "   macro avg       0.65      0.50      0.53       512\n",
            "weighted avg       0.65      0.62      0.60       512\n",
            "\n"
          ],
          "name": "stdout"
        },
        {
          "output_type": "display_data",
          "data": {
            "image/png": "[encoded data removed]",
            "text/plain": [
              "<Figure size 720x504 with 2 Axes>"
            ]
          },
          "metadata": {
            "tags": [],
            "needs_background": "light"
          }
        }
      ]
    },
    {
      "cell_type": "code",
      "metadata": {
        "colab": {
          "base_uri": "https://localhost:8080/",
          "height": 712
        },
        "id": "VpthApemyZYA",
        "outputId": "e787a6a5-7d01-4743-cb4b-b9f063da00d9"
      },
      "source": [
        "stc_tree = SelfTrainingClassifier(RandomForestClassifier(criterion='entropy', bootstrap=True, max_depth=8), criterion='k_best', k_best=75, max_iter=25)\n",
        "stc_tree.fit(data, target)\n",
        "y_pred = stc_tree.predict(features.iloc[X_test].drop('role', axis=1))\n",
        "calculate_metrics(y_test, y_pred)"
      ],
      "execution_count": null,
      "outputs": [
        {
          "output_type": "stream",
          "text": [
            "Accuracy is 0.6015625\n",
            "Macro F1-score is 0.49690384309049174\n",
            "Micro F1-score is 0.6015625\n",
            "Classification report:               precision    recall  f1-score   support\n",
            "\n",
            "           1       0.71      0.21      0.32        58\n",
            "           2       0.74      0.35      0.48        71\n",
            "           3       0.78      0.72      0.74       102\n",
            "           4       0.36      0.12      0.18        42\n",
            "           5       0.52      0.91      0.67       174\n",
            "           6       0.69      0.52      0.60        65\n",
            "\n",
            "    accuracy                           0.60       512\n",
            "   macro avg       0.63      0.47      0.50       512\n",
            "weighted avg       0.63      0.60      0.57       512\n",
            "\n"
          ],
          "name": "stdout"
        },
        {
          "output_type": "display_data",
          "data": {
            "image/png": "[encoded data removed]",
            "text/plain": [
              "<Figure size 720x504 with 2 Axes>"
            ]
          },
          "metadata": {
            "tags": [],
            "needs_background": "light"
          }
        }
      ]
    },
    {
      "cell_type": "code",
      "metadata": {
        "colab": {
          "base_uri": "https://localhost:8080/",
          "height": 712
        },
        "id": "OyJkqyRnb5j0",
        "outputId": "d2607199-de5c-4fa2-e0dc-fc339bd16337"
      },
      "source": [
        "clf_r = xgb.XGBClassifier(n_estimators=1000, learning_rate=1e-2, max_depth=3, silent=True)\n",
        "clf_r.fit(features.iloc[X_train].drop('role', axis=1), y_train)\n",
        "y_pred = clf_r.predict(features.iloc[X_test].drop('role', axis=1))\n",
        "calculate_metrics(y_test, y_pred)"
      ],
      "execution_count": null,
      "outputs": [
        {
          "output_type": "stream",
          "text": [
            "Accuracy is 0.62890625\n",
            "Macro F1-score is 0.5589971141284958\n",
            "Micro F1-score is 0.62890625\n",
            "Classification report:               precision    recall  f1-score   support\n",
            "\n",
            "           1       0.53      0.31      0.39        58\n",
            "           2       0.78      0.51      0.62        71\n",
            "           3       0.81      0.77      0.79       102\n",
            "           4       0.56      0.21      0.31        42\n",
            "           5       0.55      0.83      0.66       174\n",
            "           6       0.64      0.54      0.58        65\n",
            "\n",
            "    accuracy                           0.63       512\n",
            "   macro avg       0.64      0.53      0.56       512\n",
            "weighted avg       0.64      0.63      0.61       512\n",
            "\n"
          ],
          "name": "stdout"
        },
        {
          "output_type": "display_data",
          "data": {
            "image/png": "[encoded data removed]",
            "text/plain": [
              "<Figure size 720x504 with 2 Axes>"
            ]
          },
          "metadata": {
            "tags": [],
            "needs_background": "light"
          }
        }
      ]
    },
    {
      "cell_type": "code",
      "metadata": {
        "colab": {
          "base_uri": "https://localhost:8080/",
          "height": 712
        },
        "id": "fKDRrZEUbsnD",
        "outputId": "94ba6890-0d31-433b-d223-903c825c242f"
      },
      "source": [
        "slc_boost = SelfTrainingClassifier(xgb.XGBClassifier(n_estimators=1000, learning_rate=1e-2, max_depth=3, silent=True), criterion='k_best', k_best=80, max_iter=30)\n",
        "slc_boost.fit(data, target)\n",
        "y_pred = slc_boost.predict(features.iloc[X_test].drop('role', axis=1).to_numpy())\n",
        "calculate_metrics(y_test, y_pred)"
      ],
      "execution_count": null,
      "outputs": [
        {
          "output_type": "stream",
          "text": [
            "Accuracy is 0.623046875\n",
            "Macro F1-score is 0.5542682782209708\n",
            "Micro F1-score is 0.623046875\n",
            "Classification report:               precision    recall  f1-score   support\n",
            "\n",
            "           1       0.50      0.31      0.38        58\n",
            "           2       0.77      0.52      0.62        71\n",
            "           3       0.79      0.77      0.78       102\n",
            "           4       0.50      0.21      0.30        42\n",
            "           5       0.55      0.82      0.66       174\n",
            "           6       0.65      0.52      0.58        65\n",
            "\n",
            "    accuracy                           0.62       512\n",
            "   macro avg       0.63      0.53      0.55       512\n",
            "weighted avg       0.63      0.62      0.61       512\n",
            "\n"
          ],
          "name": "stdout"
        },
        {
          "output_type": "display_data",
          "data": {
            "image/png": "[encoded data removed]",
            "text/plain": [
              "<Figure size 720x504 with 2 Axes>"
            ]
          },
          "metadata": {
            "tags": [],
            "needs_background": "light"
          }
        }
      ]
    },
    {
      "cell_type": "code",
      "metadata": {
        "id": "WpPjQgEkdyF4"
      },
      "source": [
        "y_pred = slc_boost.predict(features.iloc[X_test].drop('role', axis=1))\n",
        "calculate_metrics(y_test, y_pred)"
      ],
      "execution_count": null,
      "outputs": []
    }
  ]
}