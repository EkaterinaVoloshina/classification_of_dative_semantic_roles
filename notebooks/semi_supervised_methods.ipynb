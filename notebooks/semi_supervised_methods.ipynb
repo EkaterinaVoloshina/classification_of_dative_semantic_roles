{
  "nbformat": 4,
  "nbformat_minor": 0,
  "metadata": {
    "accelerator": "GPU",
    "colab": {
      "name": "semi-supervised methods.ipynb",
      "provenance": [],
      "authorship_tag": "ABX9TyP5Xj5Ib/4k8NdcJ50BQhmy",
      "include_colab_link": true
    },
    "kernelspec": {
      "display_name": "Python 3",
      "name": "python3"
    },
    "language_info": {
      "name": "python"
    }
  },
  "cells": [
    {
      "cell_type": "markdown",
      "metadata": {
        "id": "view-in-github",
        "colab_type": "text"
      },
      "source": [
        "<a href=\"https://colab.research.google.com/github/EkaterinaVoloshina/classification_of_dative_semantic_roles/blob/main/notebooks/semi_supervised_methods.ipynb\" target=\"_parent\"><img src=\"https://colab.research.google.com/assets/colab-badge.svg\" alt=\"Open In Colab\"/></a>"
      ]
    },
    {
      "cell_type": "markdown",
      "metadata": {
        "id": "wO9RboExEnZE"
      },
      "source": [
        "## Методы обучения с частичным привлечением учителя\n",
        "\n",
        "Описание этого кода и интерпретация результата приведены в разделе 4.2 и 4.3 курсовой работы. \n",
        "\n",
        "\n",
        "\n",
        "\n",
        "\n",
        "\n",
        "Для дальнейшего кода нужна последняя версия библиотеки scikit-learn:"
      ]
    },
    {
      "cell_type": "code",
      "metadata": {
        "id": "ujwFRodAvwYV"
      },
      "source": [
        "# ! pip install --upgrade scikit-learn"
      ],
      "execution_count": 1,
      "outputs": []
    },
    {
      "cell_type": "code",
      "metadata": {
        "id": "-vAdDfl8e0iD"
      },
      "source": [
        "import random\n",
        "from collections import Counter\n",
        "\n",
        "import pandas as pd\n",
        "import numpy as np\n",
        "import matplotlib.pyplot as plt\n",
        "import seaborn as sn\n",
        "\n",
        "\n",
        "from sklearn.model_selection import train_test_split\n",
        "from sklearn.ensemble import RandomForestClassifier\n",
        "from sklearn.metrics import accuracy_score, confusion_matrix, classification_report, f1_score\n",
        "from sklearn.linear_model import LogisticRegression\n",
        "from sklearn.semi_supervised import SelfTrainingClassifier\n",
        "from sklearn.preprocessing import LabelEncoder, OneHotEncoder\n",
        "import xgboost as xgb\n",
        "\n",
        "from torch import nn, optim\n",
        "import torch\n",
        "from torch.utils.data import DataLoader, TensorDataset\n",
        "\n",
        "le = LabelEncoder()\n",
        "one = OneHotEncoder()\n",
        "\n",
        "random.seed(42)\n",
        "np.random.seed(42)\n",
        "torch.manual_seed(42)\n",
        "torch.cuda.manual_seed(42)"
      ],
      "execution_count": 2,
      "outputs": []
    },
    {
      "cell_type": "code",
      "metadata": {
        "id": "QSlEcGQqRfTt"
      },
      "source": [
        "! git clone 'https://github.com/EkaterinaVoloshina/classification_of_dative_semantic_roles/'"
      ],
      "execution_count": null,
      "outputs": []
    },
    {
      "cell_type": "markdown",
      "metadata": {
        "id": "ghjqJ-W4Iz7c"
      },
      "source": [
        "### 1. Препроцессинг "
      ]
    },
    {
      "cell_type": "code",
      "metadata": {
        "id": "nLu_XDjsTl4G"
      },
      "source": [
        "features = pd.read_csv('./classification_of_dative_semantic_roles/data/unannotated_data.csv')\n",
        "features['prep'] = features['prep'].fillna(False).astype(int)\n",
        "features['dobj'] = features['dobj'].fillna(False).astype(int)\n",
        "features = features[features['d.lemma'].notna()]\n",
        "features = features.drop(['d.lemma', 's.lemma', 'v.lemma'], axis=1)\n",
        "features = features.drop(['Unnamed: 0', 'key'], axis=1)\n",
        "features = features.fillna('none')\n",
        "features = features.replace('no_subject', 'none')\n",
        "features = features.apply(le.fit_transform)"
      ],
      "execution_count": 4,
      "outputs": []
    },
    {
      "cell_type": "code",
      "metadata": {
        "id": "EF6vCsJzhhJk"
      },
      "source": [
        "data_w_answers = features[features['role'] != 0]\n",
        "unlabeled = features[features['role'] == 0].drop('role', axis=1)\n",
        "roles = le.fit_transform(data_w_answers['role'])"
      ],
      "execution_count": 5,
      "outputs": []
    },
    {
      "cell_type": "markdown",
      "metadata": {
        "id": "xh0D5qrWI3Vt"
      },
      "source": [
        "### 2. Метрики"
      ]
    },
    {
      "cell_type": "code",
      "metadata": {
        "id": "MITeDvwmhqGV"
      },
      "source": [
        "def calculate_metrics(y_true, y_pred):\n",
        "    \"\"\"\n",
        "    This function calculates different metrics\n",
        "    \"\"\"\n",
        "    print(f'Accuracy is {accuracy_score(y_true, y_pred)}')\n",
        "    print(f'Macro F1-score is {f1_score(y_test, y_pred, average=\"macro\")}')\n",
        "    print(f'Micro F1-score is {f1_score(y_test, y_pred, average=\"micro\")}')\n",
        "    print(f'Classification report: {classification_report(y_test, y_pred)}')\n",
        "    df_cm = pd.DataFrame(confusion_matrix(y_test, y_pred),\n",
        "    index = [i for i in le.classes_], columns = [i for i in le.classes_])\n",
        "    plt.figure(figsize = (10,7))\n",
        "    sn.heatmap(df_cm, annot=True)"
      ],
      "execution_count": 6,
      "outputs": []
    },
    {
      "cell_type": "code",
      "metadata": {
        "id": "bbbENfQffWFh"
      },
      "source": [
        "X_train, X_test, y_train, y_test = train_test_split(data_w_answers.index, roles)"
      ],
      "execution_count": 7,
      "outputs": []
    },
    {
      "cell_type": "code",
      "metadata": {
        "id": "YitcVaah0soZ"
      },
      "source": [
        "data = features.drop('role', axis=1).drop(X_test)\n",
        "target = features['role'].drop(X_test)\n",
        "target -= 1"
      ],
      "execution_count": 8,
      "outputs": []
    },
    {
      "cell_type": "code",
      "metadata": {
        "id": "e8gdpyktec5z"
      },
      "source": [
        "one.fit(features.drop('role', axis=1))\n",
        "one_data = one.transform(data)"
      ],
      "execution_count": 9,
      "outputs": []
    },
    {
      "cell_type": "markdown",
      "metadata": {
        "id": "YNC6s0nzJB6m"
      },
      "source": [
        "### 3. Логистическая регрессия и Self-training модель, основанная на логистической регрессии"
      ]
    },
    {
      "cell_type": "code",
      "metadata": {
        "colab": {
          "base_uri": "https://localhost:8080/",
          "height": 716
        },
        "id": "nWjGSXaa5y13",
        "outputId": "3c2b2ec5-14c1-48e6-9259-118a1a44baad"
      },
      "source": [
        "lg = LogisticRegression(solver='sag')\n",
        "lg.fit(one.transform(features.iloc[X_train].drop('role', axis=1)), y_train)\n",
        "y_pred = lg.predict(one.transform(features.iloc[X_test].drop('role', axis=1)))\n",
        "calculate_metrics(y_test, y_pred)"
      ],
      "execution_count": 10,
      "outputs": [
        {
          "output_type": "stream",
          "text": [
            "Accuracy is 0.615234375\n",
            "Macro F1-score is 0.5235645984820316\n",
            "Micro F1-score is 0.615234375\n",
            "Classification report:               precision    recall  f1-score   support\n",
            "\n",
            "           0       0.50      0.33      0.40        60\n",
            "           1       0.64      0.55      0.59        77\n",
            "           2       0.71      0.80      0.76        92\n",
            "           3       0.27      0.10      0.15        29\n",
            "           4       0.58      0.77      0.66       181\n",
            "           5       0.72      0.49      0.59        73\n",
            "\n",
            "    accuracy                           0.62       512\n",
            "   macro avg       0.57      0.51      0.52       512\n",
            "weighted avg       0.61      0.62      0.60       512\n",
            "\n"
          ],
          "name": "stdout"
        },
        {
          "output_type": "display_data",
          "data": {
            "image/png": "[encoded data removed]",
            "text/plain": [
              "<Figure size 720x504 with 2 Axes>"
            ]
          },
          "metadata": {
            "tags": [],
            "needs_background": "light"
          }
        }
      ]
    },
    {
      "cell_type": "code",
      "metadata": {
        "id": "KDMTLKu8T302",
        "colab": {
          "base_uri": "https://localhost:8080/",
          "height": 714
        },
        "outputId": "abb34e62-c6b3-4a17-b3ff-a8f68077fe25"
      },
      "source": [
        "stc = SelfTrainingClassifier(LogisticRegression(solver='sag'), threshold=0.7, max_iter=15)\n",
        "stc.fit(one_data, target)\n",
        "y_pred = stc.predict(one.transform(features.iloc[X_test].drop('role', axis=1)))\n",
        "calculate_metrics(y_test, y_pred)"
      ],
      "execution_count": 11,
      "outputs": [
        {
          "output_type": "stream",
          "text": [
            "Accuracy is 0.619140625\n",
            "Macro F1-score is 0.5202686482904946\n",
            "Micro F1-score is 0.619140625\n",
            "Classification report:               precision    recall  f1-score   support\n",
            "\n",
            "           0       0.49      0.37      0.42        60\n",
            "           1       0.63      0.55      0.58        77\n",
            "           2       0.70      0.80      0.75        92\n",
            "           3       0.33      0.07      0.11        29\n",
            "           4       0.59      0.78      0.67       181\n",
            "           5       0.71      0.49      0.58        73\n",
            "\n",
            "    accuracy                           0.62       512\n",
            "   macro avg       0.58      0.51      0.52       512\n",
            "weighted avg       0.61      0.62      0.60       512\n",
            "\n"
          ],
          "name": "stdout"
        },
        {
          "output_type": "display_data",
          "data": {
            "image/png": "[encoded data removed]",
            "text/plain": [
              "<Figure size 720x504 with 2 Axes>"
            ]
          },
          "metadata": {
            "tags": [],
            "needs_background": "light"
          }
        }
      ]
    },
    {
      "cell_type": "markdown",
      "metadata": {
        "id": "0zHbZwb3JKsU"
      },
      "source": [
        "### 4. Ансамбль решающих деревьев XGBoost и Self-training модель, основанная на XGBoost"
      ]
    },
    {
      "cell_type": "code",
      "metadata": {
        "colab": {
          "base_uri": "https://localhost:8080/",
          "height": 712
        },
        "id": "OyJkqyRnb5j0",
        "outputId": "8a41e04c-39d2-4443-cd45-3d7d05456134"
      },
      "source": [
        "clf_r = xgb.XGBClassifier(n_estimators=1000, learning_rate=1e-2, max_depth=3, silent=True)\n",
        "clf_r.fit(features.iloc[X_train].drop('role', axis=1), y_train)\n",
        "y_pred = clf_r.predict(features.iloc[X_test].drop('role', axis=1))\n",
        "calculate_metrics(y_test, y_pred)"
      ],
      "execution_count": 12,
      "outputs": [
        {
          "output_type": "stream",
          "text": [
            "Accuracy is 0.615234375\n",
            "Macro F1-score is 0.5069799601377332\n",
            "Micro F1-score is 0.615234375\n",
            "Classification report:               precision    recall  f1-score   support\n",
            "\n",
            "           0       0.59      0.32      0.41        60\n",
            "           1       0.64      0.48      0.55        77\n",
            "           2       0.73      0.79      0.76        92\n",
            "           3       0.33      0.07      0.11        29\n",
            "           4       0.57      0.84      0.68       181\n",
            "           5       0.67      0.44      0.53        73\n",
            "\n",
            "    accuracy                           0.62       512\n",
            "   macro avg       0.59      0.49      0.51       512\n",
            "weighted avg       0.61      0.62      0.59       512\n",
            "\n"
          ],
          "name": "stdout"
        },
        {
          "output_type": "display_data",
          "data": {
            "image/png": "[encoded data removed]",
            "text/plain": [
              "<Figure size 720x504 with 2 Axes>"
            ]
          },
          "metadata": {
            "tags": [],
            "needs_background": "light"
          }
        }
      ]
    },
    {
      "cell_type": "code",
      "metadata": {
        "colab": {
          "base_uri": "https://localhost:8080/",
          "height": 712
        },
        "id": "fKDRrZEUbsnD",
        "outputId": "b37872b4-53ab-4f85-ea4a-d8d6ba625547"
      },
      "source": [
        "stc_boost = SelfTrainingClassifier(xgb.XGBClassifier(n_estimators=1000, learning_rate=1e-2, max_depth=3, silent=True), criterion='k_best', k_best=80, max_iter=30)\n",
        "stc_boost.fit(data, target)\n",
        "y_pred = stc_boost.predict(features.iloc[X_test].drop('role', axis=1).to_numpy())\n",
        "calculate_metrics(y_test, y_pred)"
      ],
      "execution_count": 13,
      "outputs": [
        {
          "output_type": "stream",
          "text": [
            "Accuracy is 0.619140625\n",
            "Macro F1-score is 0.5380477833224614\n",
            "Micro F1-score is 0.619140625\n",
            "Classification report:               precision    recall  f1-score   support\n",
            "\n",
            "           0       0.62      0.30      0.40        60\n",
            "           1       0.67      0.45      0.54        77\n",
            "           2       0.69      0.79      0.74        92\n",
            "           3       0.60      0.21      0.31        29\n",
            "           4       0.57      0.83      0.67       181\n",
            "           5       0.71      0.47      0.56        73\n",
            "\n",
            "    accuracy                           0.62       512\n",
            "   macro avg       0.64      0.51      0.54       512\n",
            "weighted avg       0.63      0.62      0.60       512\n",
            "\n"
          ],
          "name": "stdout"
        },
        {
          "output_type": "display_data",
          "data": {
            "image/png": "[encoded data removed]",
            "text/plain": [
              "<Figure size 720x504 with 2 Axes>"
            ]
          },
          "metadata": {
            "tags": [],
            "needs_background": "light"
          }
        }
      ]
    }
  ]
}